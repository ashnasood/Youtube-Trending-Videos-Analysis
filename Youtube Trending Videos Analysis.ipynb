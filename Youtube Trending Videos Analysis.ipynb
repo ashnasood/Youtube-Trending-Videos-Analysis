{
 "cells": [
  {
   "cell_type": "markdown",
   "metadata": {
    "id": "Zfp7jo3TuTWO"
   },
   "source": [
    "# **Menon Labs: Trending Youtube Video Statistics Across Different Nations Data Analysis**"
   ]
  },
  {
   "cell_type": "markdown",
   "metadata": {
    "id": "Avwk3LwfuuxI"
   },
   "source": [
    "## **Colaborators**:\n",
    "- Ashna Sood\n",
    "- Mackenzie Chen"
   ]
  },
  {
   "cell_type": "markdown",
   "metadata": {
    "id": "tNUvaZTcvBeY"
   },
   "source": [
    "## **Imports**"
   ]
  },
  {
   "cell_type": "code",
   "execution_count": 1,
   "metadata": {
    "id": "HwSZY52vERGk"
   },
   "outputs": [],
   "source": [
    "%matplotlib inline\n",
    "\n",
    "import numpy as np\n",
    "import pandas as pd\n",
    "import matplotlib.pyplot as plt\n",
    "import os \n",
    "\n",
    "import seaborn as sns\n",
    "sns.set()\n",
    "sns.set_context('talk')\n",
    "\n",
    "import warnings\n",
    "warnings.filterwarnings('ignore')\n",
    "\n",
    "import patsy\n",
    "import statsmodels.api as sm\n",
    "import scipy.stats as stats\n",
    "\n",
    "from sklearn.metrics import classification_report, precision_recall_fscore_support, mean_absolute_error, mean_squared_error\n",
    "from sklearn.model_selection import train_test_split\n",
    "from sklearn.linear_model import LinearRegression\n",
    "from sklearn import metrics"
   ]
  },
  {
   "cell_type": "markdown",
   "metadata": {
    "id": "9gW1X098ERHi"
   },
   "source": [
    "## **USA youtube data**"
   ]
  },
  {
   "cell_type": "markdown",
   "metadata": {
    "id": "mWayO2guHu_7"
   },
   "source": [
    "### **Data Wrangling**"
   ]
  },
  {
   "cell_type": "code",
   "execution_count": 2,
   "metadata": {
    "colab": {
     "base_uri": "https://localhost:8080/"
    },
    "id": "_OSSYNkTIOq3",
    "outputId": "c258be0d-fe5d-4016-ffb2-bfc19bf2433b"
   },
   "outputs": [
    {
     "name": "stdout",
     "output_type": "stream",
     "text": [
      "Drive already mounted at /content/drive; to attempt to forcibly remount, call drive.mount(\"/content/drive\", force_remount=True).\n"
     ]
    }
   ],
   "source": [
    "# mount data\n",
    "from google.colab import drive\n",
    "drive.mount('/content/drive')"
   ]
  },
  {
   "cell_type": "code",
   "execution_count": 3,
   "metadata": {
    "colab": {
     "base_uri": "https://localhost:8080/",
     "height": 459
    },
    "id": "R3Okq88qERHj",
    "outputId": "fa482770-22b7-4cc3-d17f-47fcbabc22f7",
    "scrolled": true
   },
   "outputs": [
    {
     "data": {
      "text/html": [
       "<div>\n",
       "<style scoped>\n",
       "    .dataframe tbody tr th:only-of-type {\n",
       "        vertical-align: middle;\n",
       "    }\n",
       "\n",
       "    .dataframe tbody tr th {\n",
       "        vertical-align: top;\n",
       "    }\n",
       "\n",
       "    .dataframe thead th {\n",
       "        text-align: right;\n",
       "    }\n",
       "</style>\n",
       "<table border=\"1\" class=\"dataframe\">\n",
       "  <thead>\n",
       "    <tr style=\"text-align: right;\">\n",
       "      <th></th>\n",
       "      <th>video_id</th>\n",
       "      <th>trending_date</th>\n",
       "      <th>title</th>\n",
       "      <th>channel_title</th>\n",
       "      <th>category_id</th>\n",
       "      <th>publish_time</th>\n",
       "      <th>tags</th>\n",
       "      <th>views</th>\n",
       "      <th>likes</th>\n",
       "      <th>dislikes</th>\n",
       "      <th>comment_count</th>\n",
       "      <th>thumbnail_link</th>\n",
       "      <th>comments_disabled</th>\n",
       "      <th>ratings_disabled</th>\n",
       "      <th>video_error_or_removed</th>\n",
       "      <th>description</th>\n",
       "    </tr>\n",
       "  </thead>\n",
       "  <tbody>\n",
       "    <tr>\n",
       "      <th>0</th>\n",
       "      <td>2kyS6SvSYSE</td>\n",
       "      <td>17.14.11</td>\n",
       "      <td>WE WANT TO TALK ABOUT OUR MARRIAGE</td>\n",
       "      <td>CaseyNeistat</td>\n",
       "      <td>22</td>\n",
       "      <td>2017-11-13T17:13:01.000Z</td>\n",
       "      <td>SHANtell martin</td>\n",
       "      <td>748374</td>\n",
       "      <td>57527</td>\n",
       "      <td>2966</td>\n",
       "      <td>15954</td>\n",
       "      <td>https://i.ytimg.com/vi/2kyS6SvSYSE/default.jpg</td>\n",
       "      <td>False</td>\n",
       "      <td>False</td>\n",
       "      <td>False</td>\n",
       "      <td>SHANTELL'S CHANNEL - https://www.youtube.com/s...</td>\n",
       "    </tr>\n",
       "    <tr>\n",
       "      <th>1</th>\n",
       "      <td>1ZAPwfrtAFY</td>\n",
       "      <td>17.14.11</td>\n",
       "      <td>The Trump Presidency: Last Week Tonight with J...</td>\n",
       "      <td>LastWeekTonight</td>\n",
       "      <td>24</td>\n",
       "      <td>2017-11-13T07:30:00.000Z</td>\n",
       "      <td>last week tonight trump presidency|\"last week ...</td>\n",
       "      <td>2418783</td>\n",
       "      <td>97185</td>\n",
       "      <td>6146</td>\n",
       "      <td>12703</td>\n",
       "      <td>https://i.ytimg.com/vi/1ZAPwfrtAFY/default.jpg</td>\n",
       "      <td>False</td>\n",
       "      <td>False</td>\n",
       "      <td>False</td>\n",
       "      <td>One year after the presidential election, John...</td>\n",
       "    </tr>\n",
       "    <tr>\n",
       "      <th>2</th>\n",
       "      <td>5qpjK5DgCt4</td>\n",
       "      <td>17.14.11</td>\n",
       "      <td>Racist Superman | Rudy Mancuso, King Bach &amp; Le...</td>\n",
       "      <td>Rudy Mancuso</td>\n",
       "      <td>23</td>\n",
       "      <td>2017-11-12T19:05:24.000Z</td>\n",
       "      <td>racist superman|\"rudy\"|\"mancuso\"|\"king\"|\"bach\"...</td>\n",
       "      <td>3191434</td>\n",
       "      <td>146033</td>\n",
       "      <td>5339</td>\n",
       "      <td>8181</td>\n",
       "      <td>https://i.ytimg.com/vi/5qpjK5DgCt4/default.jpg</td>\n",
       "      <td>False</td>\n",
       "      <td>False</td>\n",
       "      <td>False</td>\n",
       "      <td>WATCH MY PREVIOUS VIDEO ▶ \\n\\nSUBSCRIBE ► http...</td>\n",
       "    </tr>\n",
       "    <tr>\n",
       "      <th>3</th>\n",
       "      <td>puqaWrEC7tY</td>\n",
       "      <td>17.14.11</td>\n",
       "      <td>Nickelback Lyrics: Real or Fake?</td>\n",
       "      <td>Good Mythical Morning</td>\n",
       "      <td>24</td>\n",
       "      <td>2017-11-13T11:00:04.000Z</td>\n",
       "      <td>rhett and link|\"gmm\"|\"good mythical morning\"|\"...</td>\n",
       "      <td>343168</td>\n",
       "      <td>10172</td>\n",
       "      <td>666</td>\n",
       "      <td>2146</td>\n",
       "      <td>https://i.ytimg.com/vi/puqaWrEC7tY/default.jpg</td>\n",
       "      <td>False</td>\n",
       "      <td>False</td>\n",
       "      <td>False</td>\n",
       "      <td>Today we find out if Link is a Nickelback amat...</td>\n",
       "    </tr>\n",
       "    <tr>\n",
       "      <th>4</th>\n",
       "      <td>d380meD0W0M</td>\n",
       "      <td>17.14.11</td>\n",
       "      <td>I Dare You: GOING BALD!?</td>\n",
       "      <td>nigahiga</td>\n",
       "      <td>24</td>\n",
       "      <td>2017-11-12T18:01:41.000Z</td>\n",
       "      <td>ryan|\"higa\"|\"higatv\"|\"nigahiga\"|\"i dare you\"|\"...</td>\n",
       "      <td>2095731</td>\n",
       "      <td>132235</td>\n",
       "      <td>1989</td>\n",
       "      <td>17518</td>\n",
       "      <td>https://i.ytimg.com/vi/d380meD0W0M/default.jpg</td>\n",
       "      <td>False</td>\n",
       "      <td>False</td>\n",
       "      <td>False</td>\n",
       "      <td>I know it's been a while since we did this sho...</td>\n",
       "    </tr>\n",
       "  </tbody>\n",
       "</table>\n",
       "</div>"
      ],
      "text/plain": [
       "      video_id  ...                                        description\n",
       "0  2kyS6SvSYSE  ...  SHANTELL'S CHANNEL - https://www.youtube.com/s...\n",
       "1  1ZAPwfrtAFY  ...  One year after the presidential election, John...\n",
       "2  5qpjK5DgCt4  ...  WATCH MY PREVIOUS VIDEO ▶ \\n\\nSUBSCRIBE ► http...\n",
       "3  puqaWrEC7tY  ...  Today we find out if Link is a Nickelback amat...\n",
       "4  d380meD0W0M  ...  I know it's been a while since we did this sho...\n",
       "\n",
       "[5 rows x 16 columns]"
      ]
     },
     "execution_count": 3,
     "metadata": {
      "tags": []
     },
     "output_type": "execute_result"
    }
   ],
   "source": [
    "# read in USA Youtube trending data \n",
    "US_df = pd.read_csv(\"/content/drive/MyDrive/youtube_data/USvideos.csv\")\n",
    "US_df.head()"
   ]
  },
  {
   "cell_type": "code",
   "execution_count": 4,
   "metadata": {
    "colab": {
     "base_uri": "https://localhost:8080/"
    },
    "id": "nhRikASFERHm",
    "outputId": "b0419310-8941-4cce-f477-8ffe2ddefed3"
   },
   "outputs": [
    {
     "data": {
      "text/plain": [
       "Index(['video_id', 'trending_date', 'title', 'channel_title', 'category_id',\n",
       "       'publish_time', 'tags', 'views', 'likes', 'dislikes', 'comment_count',\n",
       "       'thumbnail_link', 'comments_disabled', 'ratings_disabled',\n",
       "       'video_error_or_removed', 'description'],\n",
       "      dtype='object')"
      ]
     },
     "execution_count": 4,
     "metadata": {
      "tags": []
     },
     "output_type": "execute_result"
    }
   ],
   "source": [
    "US_df.columns"
   ]
  },
  {
   "cell_type": "code",
   "execution_count": 5,
   "metadata": {
    "colab": {
     "base_uri": "https://localhost:8080/"
    },
    "id": "BMP-365rERHn",
    "outputId": "fdac7663-e79d-450f-bb50-f004930f2372"
   },
   "outputs": [
    {
     "data": {
      "text/plain": [
       "False    40926\n",
       "True        23\n",
       "Name: video_error_or_removed, dtype: int64"
      ]
     },
     "execution_count": 5,
     "metadata": {
      "tags": []
     },
     "output_type": "execute_result"
    }
   ],
   "source": [
    "US_df[\"video_error_or_removed\"].value_counts()"
   ]
  },
  {
   "cell_type": "code",
   "execution_count": 6,
   "metadata": {
    "colab": {
     "base_uri": "https://localhost:8080/",
     "height": 204
    },
    "id": "2XPAoTsOERHo",
    "outputId": "1151b49f-6948-477a-8b19-02a66579d260"
   },
   "outputs": [
    {
     "data": {
      "text/html": [
       "<div>\n",
       "<style scoped>\n",
       "    .dataframe tbody tr th:only-of-type {\n",
       "        vertical-align: middle;\n",
       "    }\n",
       "\n",
       "    .dataframe tbody tr th {\n",
       "        vertical-align: top;\n",
       "    }\n",
       "\n",
       "    .dataframe thead th {\n",
       "        text-align: right;\n",
       "    }\n",
       "</style>\n",
       "<table border=\"1\" class=\"dataframe\">\n",
       "  <thead>\n",
       "    <tr style=\"text-align: right;\">\n",
       "      <th></th>\n",
       "      <th>Country</th>\n",
       "      <th>Video ID</th>\n",
       "      <th>Date</th>\n",
       "      <th>Title</th>\n",
       "      <th>Channel</th>\n",
       "      <th>Category ID</th>\n",
       "      <th>Published</th>\n",
       "      <th>Tags</th>\n",
       "      <th>Views</th>\n",
       "      <th>Likes</th>\n",
       "      <th>Dislikes</th>\n",
       "      <th>Num Comments</th>\n",
       "      <th>Comments Disabled</th>\n",
       "      <th>Ratings Disabled</th>\n",
       "      <th>Error</th>\n",
       "    </tr>\n",
       "  </thead>\n",
       "  <tbody>\n",
       "    <tr>\n",
       "      <th>38547</th>\n",
       "      <td>US</td>\n",
       "      <td>VYOjWnS4cMY</td>\n",
       "      <td>18.02.06</td>\n",
       "      <td>Childish Gambino - This Is America (Official V...</td>\n",
       "      <td>ChildishGambinoVEVO</td>\n",
       "      <td>10</td>\n",
       "      <td>2018-05-06T04:00:07.000Z</td>\n",
       "      <td>Childish Gambino|\"Rap\"|\"This Is America\"|\"mcDJ...</td>\n",
       "      <td>225211923</td>\n",
       "      <td>5023450</td>\n",
       "      <td>343541</td>\n",
       "      <td>517232</td>\n",
       "      <td>False</td>\n",
       "      <td>False</td>\n",
       "      <td>False</td>\n",
       "    </tr>\n",
       "    <tr>\n",
       "      <th>38345</th>\n",
       "      <td>US</td>\n",
       "      <td>VYOjWnS4cMY</td>\n",
       "      <td>18.01.06</td>\n",
       "      <td>Childish Gambino - This Is America (Official V...</td>\n",
       "      <td>ChildishGambinoVEVO</td>\n",
       "      <td>10</td>\n",
       "      <td>2018-05-06T04:00:07.000Z</td>\n",
       "      <td>Childish Gambino|\"Rap\"|\"This Is America\"|\"mcDJ...</td>\n",
       "      <td>220490543</td>\n",
       "      <td>4962403</td>\n",
       "      <td>338105</td>\n",
       "      <td>512337</td>\n",
       "      <td>False</td>\n",
       "      <td>False</td>\n",
       "      <td>False</td>\n",
       "    </tr>\n",
       "    <tr>\n",
       "      <th>38146</th>\n",
       "      <td>US</td>\n",
       "      <td>VYOjWnS4cMY</td>\n",
       "      <td>18.31.05</td>\n",
       "      <td>Childish Gambino - This Is America (Official V...</td>\n",
       "      <td>ChildishGambinoVEVO</td>\n",
       "      <td>10</td>\n",
       "      <td>2018-05-06T04:00:07.000Z</td>\n",
       "      <td>Childish Gambino|\"Rap\"|\"This Is America\"|\"mcDJ...</td>\n",
       "      <td>217750076</td>\n",
       "      <td>4934188</td>\n",
       "      <td>335462</td>\n",
       "      <td>509799</td>\n",
       "      <td>False</td>\n",
       "      <td>False</td>\n",
       "      <td>False</td>\n",
       "    </tr>\n",
       "    <tr>\n",
       "      <th>37935</th>\n",
       "      <td>US</td>\n",
       "      <td>VYOjWnS4cMY</td>\n",
       "      <td>18.30.05</td>\n",
       "      <td>Childish Gambino - This Is America (Official V...</td>\n",
       "      <td>ChildishGambinoVEVO</td>\n",
       "      <td>10</td>\n",
       "      <td>2018-05-06T04:00:07.000Z</td>\n",
       "      <td>Childish Gambino|\"Rap\"|\"This Is America\"|\"mcDJ...</td>\n",
       "      <td>210338856</td>\n",
       "      <td>4836448</td>\n",
       "      <td>326902</td>\n",
       "      <td>501722</td>\n",
       "      <td>False</td>\n",
       "      <td>False</td>\n",
       "      <td>False</td>\n",
       "    </tr>\n",
       "    <tr>\n",
       "      <th>37730</th>\n",
       "      <td>US</td>\n",
       "      <td>VYOjWnS4cMY</td>\n",
       "      <td>18.29.05</td>\n",
       "      <td>Childish Gambino - This Is America (Official V...</td>\n",
       "      <td>ChildishGambinoVEVO</td>\n",
       "      <td>10</td>\n",
       "      <td>2018-05-06T04:00:07.000Z</td>\n",
       "      <td>Childish Gambino|\"Rap\"|\"This Is America\"|\"mcDJ...</td>\n",
       "      <td>205643016</td>\n",
       "      <td>4776680</td>\n",
       "      <td>321493</td>\n",
       "      <td>496211</td>\n",
       "      <td>False</td>\n",
       "      <td>False</td>\n",
       "      <td>False</td>\n",
       "    </tr>\n",
       "  </tbody>\n",
       "</table>\n",
       "</div>"
      ],
      "text/plain": [
       "      Country     Video ID  ... Ratings Disabled  Error\n",
       "38547      US  VYOjWnS4cMY  ...            False  False\n",
       "38345      US  VYOjWnS4cMY  ...            False  False\n",
       "38146      US  VYOjWnS4cMY  ...            False  False\n",
       "37935      US  VYOjWnS4cMY  ...            False  False\n",
       "37730      US  VYOjWnS4cMY  ...            False  False\n",
       "\n",
       "[5 rows x 15 columns]"
      ]
     },
     "execution_count": 6,
     "metadata": {
      "tags": []
     },
     "output_type": "execute_result"
    }
   ],
   "source": [
    "# drop unecessary columns and rename columns\n",
    "US_df = US_df.drop(columns={\"thumbnail_link\", \"description\"})\n",
    "US_df = US_df.rename(columns={\"video_id\":\"Video ID\", \"trending_date\":\"Date\", \"title\": \"Title\", \n",
    "                              \"channel_title\": \"Channel\", \"category_id\": \"Category ID\", \n",
    "                              \"publish_time\": \"Published\",\"tags\": \"Tags\", \"views\": \"Views\", \"likes\": \"Likes\",\n",
    "                             \"dislikes\": \"Dislikes\", \"comment_count\": \"Num Comments\",\n",
    "                              \"comments_disabled\": \"Comments Disabled\", \"ratings_disabled\": \"Ratings Disabled\", \n",
    "                              \"video_error_or_removed\": \"Error\"})\n",
    "# sort rows in descending order with respect to number of views\n",
    "US_df = US_df.sort_values(by=['Views'], ascending=False)\n",
    "US_df = US_df.assign(Country = \"US\")\n",
    "# remove Country from the list and add back to beginning of df\n",
    "cols = list(US_df.columns.values) \n",
    "cols.pop(cols.index('Country')) \n",
    "US_df = US_df[[\"Country\"] + cols]\n",
    "\n",
    "US_df.head()"
   ]
  },
  {
   "cell_type": "code",
   "execution_count": 7,
   "metadata": {
    "colab": {
     "base_uri": "https://localhost:8080/"
    },
    "id": "jjNu4dQMERHp",
    "outputId": "4e5def4c-340f-421e-8e37-dc848faf4aa7"
   },
   "outputs": [
    {
     "name": "stdout",
     "output_type": "stream",
     "text": [
      "Comments Disabled count:\n",
      " False    40316\n",
      "True       633\n",
      "Name: Comments Disabled, dtype: int64\n",
      "Ratings Disabled count:\n",
      " False    40780\n",
      "True       169\n",
      "Name: Ratings Disabled, dtype: int64\n",
      "Error count:\n",
      " False    40926\n",
      "True        23\n",
      "Name: Error, dtype: int64\n"
     ]
    }
   ],
   "source": [
    "# see the True/False counts\n",
    "print(\"Comments Disabled count:\\n\", US_df[\"Comments Disabled\"].value_counts())\n",
    "print(\"Ratings Disabled count:\\n\", US_df[\"Ratings Disabled\"].value_counts())\n",
    "print(\"Error count:\\n\", US_df[\"Error\"].value_counts())"
   ]
  },
  {
   "cell_type": "code",
   "execution_count": 8,
   "metadata": {
    "id": "OYxeEO4HERHr"
   },
   "outputs": [],
   "source": [
    "# binarize True/False cols to True - 1 and False - 0\n",
    "US_df[\"Comments Disabled\"] = US_df[\"Comments Disabled\"].astype(int)\n",
    "US_df[\"Ratings Disabled\"] = US_df[\"Ratings Disabled\"].astype(int)\n",
    "US_df[\"Error\"] = US_df[\"Error\"].astype(int)"
   ]
  },
  {
   "cell_type": "code",
   "execution_count": 9,
   "metadata": {
    "colab": {
     "base_uri": "https://localhost:8080/"
    },
    "id": "vEayNg3tERIE",
    "outputId": "4366ef38-a044-43f6-b3fb-7a3bf681e2f2"
   },
   "outputs": [
    {
     "name": "stdout",
     "output_type": "stream",
     "text": [
      "Comments Disabled count:\n",
      " 0    40316\n",
      "1      633\n",
      "Name: Comments Disabled, dtype: int64\n",
      "Ratings Disabled count:\n",
      " 0    40780\n",
      "1      169\n",
      "Name: Ratings Disabled, dtype: int64\n",
      "Error count:\n",
      " 0    40926\n",
      "1       23\n",
      "Name: Error, dtype: int64\n"
     ]
    }
   ],
   "source": [
    "print(\"Comments Disabled count:\\n\", US_df[\"Comments Disabled\"].value_counts())\n",
    "print(\"Ratings Disabled count:\\n\", US_df[\"Ratings Disabled\"].value_counts())\n",
    "print(\"Error count:\\n\", US_df[\"Error\"].value_counts())"
   ]
  },
  {
   "cell_type": "code",
   "execution_count": 10,
   "metadata": {
    "colab": {
     "base_uri": "https://localhost:8080/",
     "height": 419
    },
    "id": "zWOIVzBTERII",
    "outputId": "09413582-2117-48c3-ecf2-6cd57b8360b5"
   },
   "outputs": [
    {
     "data": {
      "text/html": [
       "<div>\n",
       "<style scoped>\n",
       "    .dataframe tbody tr th:only-of-type {\n",
       "        vertical-align: middle;\n",
       "    }\n",
       "\n",
       "    .dataframe tbody tr th {\n",
       "        vertical-align: top;\n",
       "    }\n",
       "\n",
       "    .dataframe thead th {\n",
       "        text-align: right;\n",
       "    }\n",
       "</style>\n",
       "<table border=\"1\" class=\"dataframe\">\n",
       "  <thead>\n",
       "    <tr style=\"text-align: right;\">\n",
       "      <th></th>\n",
       "      <th>Country</th>\n",
       "      <th>Video ID</th>\n",
       "      <th>Date</th>\n",
       "      <th>Title</th>\n",
       "      <th>Channel</th>\n",
       "      <th>Category ID</th>\n",
       "      <th>Published</th>\n",
       "      <th>Tags</th>\n",
       "      <th>Views</th>\n",
       "      <th>Likes</th>\n",
       "      <th>Dislikes</th>\n",
       "      <th>Num Comments</th>\n",
       "      <th>Comments Disabled</th>\n",
       "      <th>Ratings Disabled</th>\n",
       "      <th>Error</th>\n",
       "    </tr>\n",
       "  </thead>\n",
       "  <tbody>\n",
       "    <tr>\n",
       "      <th>38547</th>\n",
       "      <td>US</td>\n",
       "      <td>VYOjWnS4cMY</td>\n",
       "      <td>18.02.06</td>\n",
       "      <td>Childish Gambino - This Is America (Official V...</td>\n",
       "      <td>ChildishGambinoVEVO</td>\n",
       "      <td>10</td>\n",
       "      <td>2018-05-06T04:00:07.000Z</td>\n",
       "      <td>Childish Gambino|\"Rap\"|\"This Is America\"|\"mcDJ...</td>\n",
       "      <td>225211923</td>\n",
       "      <td>5023450</td>\n",
       "      <td>343541</td>\n",
       "      <td>517232</td>\n",
       "      <td>0</td>\n",
       "      <td>0</td>\n",
       "      <td>0</td>\n",
       "    </tr>\n",
       "    <tr>\n",
       "      <th>38345</th>\n",
       "      <td>US</td>\n",
       "      <td>VYOjWnS4cMY</td>\n",
       "      <td>18.01.06</td>\n",
       "      <td>Childish Gambino - This Is America (Official V...</td>\n",
       "      <td>ChildishGambinoVEVO</td>\n",
       "      <td>10</td>\n",
       "      <td>2018-05-06T04:00:07.000Z</td>\n",
       "      <td>Childish Gambino|\"Rap\"|\"This Is America\"|\"mcDJ...</td>\n",
       "      <td>220490543</td>\n",
       "      <td>4962403</td>\n",
       "      <td>338105</td>\n",
       "      <td>512337</td>\n",
       "      <td>0</td>\n",
       "      <td>0</td>\n",
       "      <td>0</td>\n",
       "    </tr>\n",
       "    <tr>\n",
       "      <th>38146</th>\n",
       "      <td>US</td>\n",
       "      <td>VYOjWnS4cMY</td>\n",
       "      <td>18.31.05</td>\n",
       "      <td>Childish Gambino - This Is America (Official V...</td>\n",
       "      <td>ChildishGambinoVEVO</td>\n",
       "      <td>10</td>\n",
       "      <td>2018-05-06T04:00:07.000Z</td>\n",
       "      <td>Childish Gambino|\"Rap\"|\"This Is America\"|\"mcDJ...</td>\n",
       "      <td>217750076</td>\n",
       "      <td>4934188</td>\n",
       "      <td>335462</td>\n",
       "      <td>509799</td>\n",
       "      <td>0</td>\n",
       "      <td>0</td>\n",
       "      <td>0</td>\n",
       "    </tr>\n",
       "    <tr>\n",
       "      <th>37935</th>\n",
       "      <td>US</td>\n",
       "      <td>VYOjWnS4cMY</td>\n",
       "      <td>18.30.05</td>\n",
       "      <td>Childish Gambino - This Is America (Official V...</td>\n",
       "      <td>ChildishGambinoVEVO</td>\n",
       "      <td>10</td>\n",
       "      <td>2018-05-06T04:00:07.000Z</td>\n",
       "      <td>Childish Gambino|\"Rap\"|\"This Is America\"|\"mcDJ...</td>\n",
       "      <td>210338856</td>\n",
       "      <td>4836448</td>\n",
       "      <td>326902</td>\n",
       "      <td>501722</td>\n",
       "      <td>0</td>\n",
       "      <td>0</td>\n",
       "      <td>0</td>\n",
       "    </tr>\n",
       "    <tr>\n",
       "      <th>37730</th>\n",
       "      <td>US</td>\n",
       "      <td>VYOjWnS4cMY</td>\n",
       "      <td>18.29.05</td>\n",
       "      <td>Childish Gambino - This Is America (Official V...</td>\n",
       "      <td>ChildishGambinoVEVO</td>\n",
       "      <td>10</td>\n",
       "      <td>2018-05-06T04:00:07.000Z</td>\n",
       "      <td>Childish Gambino|\"Rap\"|\"This Is America\"|\"mcDJ...</td>\n",
       "      <td>205643016</td>\n",
       "      <td>4776680</td>\n",
       "      <td>321493</td>\n",
       "      <td>496211</td>\n",
       "      <td>0</td>\n",
       "      <td>0</td>\n",
       "      <td>0</td>\n",
       "    </tr>\n",
       "    <tr>\n",
       "      <th>...</th>\n",
       "      <td>...</td>\n",
       "      <td>...</td>\n",
       "      <td>...</td>\n",
       "      <td>...</td>\n",
       "      <td>...</td>\n",
       "      <td>...</td>\n",
       "      <td>...</td>\n",
       "      <td>...</td>\n",
       "      <td>...</td>\n",
       "      <td>...</td>\n",
       "      <td>...</td>\n",
       "      <td>...</td>\n",
       "      <td>...</td>\n",
       "      <td>...</td>\n",
       "      <td>...</td>\n",
       "    </tr>\n",
       "    <tr>\n",
       "      <th>546</th>\n",
       "      <td>US</td>\n",
       "      <td>-JVITToppE0</td>\n",
       "      <td>17.16.11</td>\n",
       "      <td>Coach Taggart Monday Presser Ahead of Arizona</td>\n",
       "      <td>GoDucksdotcom</td>\n",
       "      <td>17</td>\n",
       "      <td>2017-11-13T20:41:45.000Z</td>\n",
       "      <td>Oregon|\"Ducks\"|\"college athletics\"|\"college fo...</td>\n",
       "      <td>687</td>\n",
       "      <td>10</td>\n",
       "      <td>2</td>\n",
       "      <td>5</td>\n",
       "      <td>0</td>\n",
       "      <td>0</td>\n",
       "      <td>0</td>\n",
       "    </tr>\n",
       "    <tr>\n",
       "      <th>14531</th>\n",
       "      <td>US</td>\n",
       "      <td>dQMZLXaa1L8</td>\n",
       "      <td>18.27.01</td>\n",
       "      <td>Artwork Forge</td>\n",
       "      <td>Palo Alto Online</td>\n",
       "      <td>17</td>\n",
       "      <td>2018-01-10T23:53:56.000Z</td>\n",
       "      <td>[none]</td>\n",
       "      <td>658</td>\n",
       "      <td>1</td>\n",
       "      <td>0</td>\n",
       "      <td>0</td>\n",
       "      <td>0</td>\n",
       "      <td>0</td>\n",
       "      <td>0</td>\n",
       "    </tr>\n",
       "    <tr>\n",
       "      <th>14782</th>\n",
       "      <td>US</td>\n",
       "      <td>y6KYFcta4SE</td>\n",
       "      <td>18.28.01</td>\n",
       "      <td>1 dead, others injured after Ky. school shooting</td>\n",
       "      <td>Newsy</td>\n",
       "      <td>25</td>\n",
       "      <td>2018-01-23T15:30:01.000Z</td>\n",
       "      <td>shooting|\"kentucky\"|\"breaking news\"|\"u.s. news...</td>\n",
       "      <td>559</td>\n",
       "      <td>9</td>\n",
       "      <td>0</td>\n",
       "      <td>4</td>\n",
       "      <td>0</td>\n",
       "      <td>0</td>\n",
       "      <td>0</td>\n",
       "    </tr>\n",
       "    <tr>\n",
       "      <th>14563</th>\n",
       "      <td>US</td>\n",
       "      <td>y6KYFcta4SE</td>\n",
       "      <td>18.27.01</td>\n",
       "      <td>1 dead, others injured after Ky. school shooting</td>\n",
       "      <td>Newsy</td>\n",
       "      <td>25</td>\n",
       "      <td>2018-01-23T15:30:01.000Z</td>\n",
       "      <td>shooting|\"kentucky\"|\"breaking news\"|\"u.s. news...</td>\n",
       "      <td>554</td>\n",
       "      <td>9</td>\n",
       "      <td>0</td>\n",
       "      <td>4</td>\n",
       "      <td>0</td>\n",
       "      <td>0</td>\n",
       "      <td>0</td>\n",
       "    </tr>\n",
       "    <tr>\n",
       "      <th>14335</th>\n",
       "      <td>US</td>\n",
       "      <td>y6KYFcta4SE</td>\n",
       "      <td>18.26.01</td>\n",
       "      <td>1 dead, others injured after Ky. school shooting</td>\n",
       "      <td>Newsy</td>\n",
       "      <td>25</td>\n",
       "      <td>2018-01-23T15:30:01.000Z</td>\n",
       "      <td>shooting|\"kentucky\"|\"breaking news\"|\"u.s. news...</td>\n",
       "      <td>549</td>\n",
       "      <td>9</td>\n",
       "      <td>0</td>\n",
       "      <td>5</td>\n",
       "      <td>0</td>\n",
       "      <td>0</td>\n",
       "      <td>0</td>\n",
       "    </tr>\n",
       "  </tbody>\n",
       "</table>\n",
       "<p>40949 rows × 15 columns</p>\n",
       "</div>"
      ],
      "text/plain": [
       "      Country     Video ID  ... Ratings Disabled Error\n",
       "38547      US  VYOjWnS4cMY  ...                0     0\n",
       "38345      US  VYOjWnS4cMY  ...                0     0\n",
       "38146      US  VYOjWnS4cMY  ...                0     0\n",
       "37935      US  VYOjWnS4cMY  ...                0     0\n",
       "37730      US  VYOjWnS4cMY  ...                0     0\n",
       "...       ...          ...  ...              ...   ...\n",
       "546        US  -JVITToppE0  ...                0     0\n",
       "14531      US  dQMZLXaa1L8  ...                0     0\n",
       "14782      US  y6KYFcta4SE  ...                0     0\n",
       "14563      US  y6KYFcta4SE  ...                0     0\n",
       "14335      US  y6KYFcta4SE  ...                0     0\n",
       "\n",
       "[40949 rows x 15 columns]"
      ]
     },
     "execution_count": 10,
     "metadata": {
      "tags": []
     },
     "output_type": "execute_result"
    }
   ],
   "source": [
    "US_df"
   ]
  },
  {
   "cell_type": "markdown",
   "metadata": {
    "id": "zCtKXJBfIIYI"
   },
   "source": [
    "### **EDA**"
   ]
  },
  {
   "cell_type": "code",
   "execution_count": 11,
   "metadata": {
    "colab": {
     "base_uri": "https://localhost:8080/"
    },
    "id": "mSQePty4gZXQ",
    "outputId": "37fb2f64-bd0c-4e0c-f93f-22092e46995d"
   },
   "outputs": [
    {
     "name": "stdout",
     "output_type": "stream",
     "text": [
      "Missing Values? False\n"
     ]
    }
   ],
   "source": [
    "# Check for null values\n",
    "print(\"Missing Values?\", US_df.isna().values.any())"
   ]
  },
  {
   "cell_type": "markdown",
   "metadata": {
    "id": "V2AJUPD-rPx6"
   },
   "source": [
    "In order to understand the types of trending YouTube videos in a particular region, it is vital to understand what the possible categories of trending videos are. Each CSV file with the top trending videos from each nation are all labeled with a Category ID, and these ID's are identical across all CSV files. Thus, we will now parce through the US json file to get all the categories and their respective IDs. However, it is important to note that not all types of videos will be present in each country's csv file, as certain types of videos were more popular and trending in that specific region."
   ]
  },
  {
   "cell_type": "code",
   "execution_count": 12,
   "metadata": {
    "colab": {
     "base_uri": "https://localhost:8080/"
    },
    "id": "aZKYY-kZj6_u",
    "outputId": "9c455645-ab69-4786-83ed-73e4635ca7d3"
   },
   "outputs": [
    {
     "data": {
      "text/plain": [
       "{1: 'Film & Animation',\n",
       " 2: 'Autos & Vehicles',\n",
       " 10: 'Music',\n",
       " 15: 'Pets & Animals',\n",
       " 17: 'Sports',\n",
       " 18: 'Short Movies',\n",
       " 19: 'Travel & Events',\n",
       " 20: 'Gaming',\n",
       " 21: 'Videoblogging',\n",
       " 22: 'People & Blogs',\n",
       " 23: 'Comedy',\n",
       " 24: 'Entertainment',\n",
       " 25: 'News & Politics',\n",
       " 26: 'Howto & Style',\n",
       " 27: 'Education',\n",
       " 28: 'Science & Technology',\n",
       " 29: 'Nonprofits & Activism',\n",
       " 30: 'Movies',\n",
       " 31: 'Anime/Animation',\n",
       " 32: 'Action/Adventure',\n",
       " 33: 'Classics',\n",
       " 34: 'Comedy',\n",
       " 35: 'Documentary',\n",
       " 36: 'Drama',\n",
       " 37: 'Family',\n",
       " 38: 'Foreign',\n",
       " 39: 'Horror',\n",
       " 40: 'Sci-Fi/Fantasy',\n",
       " 41: 'Thriller',\n",
       " 42: 'Shorts',\n",
       " 43: 'Shows',\n",
       " 44: 'Trailers'}"
      ]
     },
     "execution_count": 12,
     "metadata": {
      "tags": []
     },
     "output_type": "execute_result"
    }
   ],
   "source": [
    "# get list of all the possible categories of videos \n",
    "categories_js = pd.read_json(\"/content/drive/MyDrive/youtube_data/US_category_id.json\", orient=\"columns\")\n",
    "ids = []\n",
    "categories = []\n",
    "for ind in range(len(categories_js)):\n",
    "    col = categories_js[\"items\"][ind]\n",
    "    id = int(col[\"id\"])\n",
    "    ids.append(id)\n",
    "    title = col[\"snippet\"][\"title\"]\n",
    "    categories.append(title)\n",
    "\n",
    "final_categories = dict(zip(ids, categories))  \n",
    "final_categories"
   ]
  },
  {
   "cell_type": "code",
   "execution_count": 13,
   "metadata": {
    "colab": {
     "base_uri": "https://localhost:8080/",
     "height": 204
    },
    "id": "DOudjkZVzjQ6",
    "outputId": "91a9b42f-df7b-41b3-8e62-9153a2513ac7"
   },
   "outputs": [
    {
     "data": {
      "text/html": [
       "<div>\n",
       "<style scoped>\n",
       "    .dataframe tbody tr th:only-of-type {\n",
       "        vertical-align: middle;\n",
       "    }\n",
       "\n",
       "    .dataframe tbody tr th {\n",
       "        vertical-align: top;\n",
       "    }\n",
       "\n",
       "    .dataframe thead th {\n",
       "        text-align: right;\n",
       "    }\n",
       "</style>\n",
       "<table border=\"1\" class=\"dataframe\">\n",
       "  <thead>\n",
       "    <tr style=\"text-align: right;\">\n",
       "      <th></th>\n",
       "      <th>Category</th>\n",
       "    </tr>\n",
       "  </thead>\n",
       "  <tbody>\n",
       "    <tr>\n",
       "      <th>1</th>\n",
       "      <td>Film &amp; Animation</td>\n",
       "    </tr>\n",
       "    <tr>\n",
       "      <th>2</th>\n",
       "      <td>Autos &amp; Vehicles</td>\n",
       "    </tr>\n",
       "    <tr>\n",
       "      <th>10</th>\n",
       "      <td>Music</td>\n",
       "    </tr>\n",
       "    <tr>\n",
       "      <th>15</th>\n",
       "      <td>Pets &amp; Animals</td>\n",
       "    </tr>\n",
       "    <tr>\n",
       "      <th>17</th>\n",
       "      <td>Sports</td>\n",
       "    </tr>\n",
       "  </tbody>\n",
       "</table>\n",
       "</div>"
      ],
      "text/plain": [
       "            Category\n",
       "1   Film & Animation\n",
       "2   Autos & Vehicles\n",
       "10             Music\n",
       "15    Pets & Animals\n",
       "17            Sports"
      ]
     },
     "execution_count": 13,
     "metadata": {
      "tags": []
     },
     "output_type": "execute_result"
    }
   ],
   "source": [
    "# create df with all of the categories and its respective category ID\n",
    "categories_df = pd.DataFrame.from_dict(final_categories, orient=\"index\")\n",
    "categories_df = categories_df.rename(columns={0: \"Category\"})\n",
    "categories_df.head()"
   ]
  },
  {
   "cell_type": "code",
   "execution_count": 14,
   "metadata": {
    "colab": {
     "base_uri": "https://localhost:8080/",
     "height": 419
    },
    "id": "F8D7ZYcLvZS8",
    "outputId": "9d967e81-e092-4f32-fe09-e7deb77bc65d"
   },
   "outputs": [
    {
     "data": {
      "text/html": [
       "<div>\n",
       "<style scoped>\n",
       "    .dataframe tbody tr th:only-of-type {\n",
       "        vertical-align: middle;\n",
       "    }\n",
       "\n",
       "    .dataframe tbody tr th {\n",
       "        vertical-align: top;\n",
       "    }\n",
       "\n",
       "    .dataframe thead th {\n",
       "        text-align: right;\n",
       "    }\n",
       "</style>\n",
       "<table border=\"1\" class=\"dataframe\">\n",
       "  <thead>\n",
       "    <tr style=\"text-align: right;\">\n",
       "      <th></th>\n",
       "      <th>Country</th>\n",
       "      <th>Video ID</th>\n",
       "      <th>Date</th>\n",
       "      <th>Title</th>\n",
       "      <th>Channel</th>\n",
       "      <th>Category ID</th>\n",
       "      <th>Published</th>\n",
       "      <th>Tags</th>\n",
       "      <th>Views</th>\n",
       "      <th>Likes</th>\n",
       "      <th>Dislikes</th>\n",
       "      <th>Num Comments</th>\n",
       "      <th>Comments Disabled</th>\n",
       "      <th>Ratings Disabled</th>\n",
       "      <th>Error</th>\n",
       "      <th>Category</th>\n",
       "    </tr>\n",
       "  </thead>\n",
       "  <tbody>\n",
       "    <tr>\n",
       "      <th>38547</th>\n",
       "      <td>US</td>\n",
       "      <td>VYOjWnS4cMY</td>\n",
       "      <td>18.02.06</td>\n",
       "      <td>Childish Gambino - This Is America (Official V...</td>\n",
       "      <td>ChildishGambinoVEVO</td>\n",
       "      <td>10</td>\n",
       "      <td>2018-05-06T04:00:07.000Z</td>\n",
       "      <td>Childish Gambino|\"Rap\"|\"This Is America\"|\"mcDJ...</td>\n",
       "      <td>225211923</td>\n",
       "      <td>5023450</td>\n",
       "      <td>343541</td>\n",
       "      <td>517232</td>\n",
       "      <td>0</td>\n",
       "      <td>0</td>\n",
       "      <td>0</td>\n",
       "      <td>Music</td>\n",
       "    </tr>\n",
       "    <tr>\n",
       "      <th>38345</th>\n",
       "      <td>US</td>\n",
       "      <td>VYOjWnS4cMY</td>\n",
       "      <td>18.01.06</td>\n",
       "      <td>Childish Gambino - This Is America (Official V...</td>\n",
       "      <td>ChildishGambinoVEVO</td>\n",
       "      <td>10</td>\n",
       "      <td>2018-05-06T04:00:07.000Z</td>\n",
       "      <td>Childish Gambino|\"Rap\"|\"This Is America\"|\"mcDJ...</td>\n",
       "      <td>220490543</td>\n",
       "      <td>4962403</td>\n",
       "      <td>338105</td>\n",
       "      <td>512337</td>\n",
       "      <td>0</td>\n",
       "      <td>0</td>\n",
       "      <td>0</td>\n",
       "      <td>Music</td>\n",
       "    </tr>\n",
       "    <tr>\n",
       "      <th>38146</th>\n",
       "      <td>US</td>\n",
       "      <td>VYOjWnS4cMY</td>\n",
       "      <td>18.31.05</td>\n",
       "      <td>Childish Gambino - This Is America (Official V...</td>\n",
       "      <td>ChildishGambinoVEVO</td>\n",
       "      <td>10</td>\n",
       "      <td>2018-05-06T04:00:07.000Z</td>\n",
       "      <td>Childish Gambino|\"Rap\"|\"This Is America\"|\"mcDJ...</td>\n",
       "      <td>217750076</td>\n",
       "      <td>4934188</td>\n",
       "      <td>335462</td>\n",
       "      <td>509799</td>\n",
       "      <td>0</td>\n",
       "      <td>0</td>\n",
       "      <td>0</td>\n",
       "      <td>Music</td>\n",
       "    </tr>\n",
       "    <tr>\n",
       "      <th>37935</th>\n",
       "      <td>US</td>\n",
       "      <td>VYOjWnS4cMY</td>\n",
       "      <td>18.30.05</td>\n",
       "      <td>Childish Gambino - This Is America (Official V...</td>\n",
       "      <td>ChildishGambinoVEVO</td>\n",
       "      <td>10</td>\n",
       "      <td>2018-05-06T04:00:07.000Z</td>\n",
       "      <td>Childish Gambino|\"Rap\"|\"This Is America\"|\"mcDJ...</td>\n",
       "      <td>210338856</td>\n",
       "      <td>4836448</td>\n",
       "      <td>326902</td>\n",
       "      <td>501722</td>\n",
       "      <td>0</td>\n",
       "      <td>0</td>\n",
       "      <td>0</td>\n",
       "      <td>Music</td>\n",
       "    </tr>\n",
       "    <tr>\n",
       "      <th>37730</th>\n",
       "      <td>US</td>\n",
       "      <td>VYOjWnS4cMY</td>\n",
       "      <td>18.29.05</td>\n",
       "      <td>Childish Gambino - This Is America (Official V...</td>\n",
       "      <td>ChildishGambinoVEVO</td>\n",
       "      <td>10</td>\n",
       "      <td>2018-05-06T04:00:07.000Z</td>\n",
       "      <td>Childish Gambino|\"Rap\"|\"This Is America\"|\"mcDJ...</td>\n",
       "      <td>205643016</td>\n",
       "      <td>4776680</td>\n",
       "      <td>321493</td>\n",
       "      <td>496211</td>\n",
       "      <td>0</td>\n",
       "      <td>0</td>\n",
       "      <td>0</td>\n",
       "      <td>Music</td>\n",
       "    </tr>\n",
       "    <tr>\n",
       "      <th>...</th>\n",
       "      <td>...</td>\n",
       "      <td>...</td>\n",
       "      <td>...</td>\n",
       "      <td>...</td>\n",
       "      <td>...</td>\n",
       "      <td>...</td>\n",
       "      <td>...</td>\n",
       "      <td>...</td>\n",
       "      <td>...</td>\n",
       "      <td>...</td>\n",
       "      <td>...</td>\n",
       "      <td>...</td>\n",
       "      <td>...</td>\n",
       "      <td>...</td>\n",
       "      <td>...</td>\n",
       "      <td>...</td>\n",
       "    </tr>\n",
       "    <tr>\n",
       "      <th>546</th>\n",
       "      <td>US</td>\n",
       "      <td>-JVITToppE0</td>\n",
       "      <td>17.16.11</td>\n",
       "      <td>Coach Taggart Monday Presser Ahead of Arizona</td>\n",
       "      <td>GoDucksdotcom</td>\n",
       "      <td>17</td>\n",
       "      <td>2017-11-13T20:41:45.000Z</td>\n",
       "      <td>Oregon|\"Ducks\"|\"college athletics\"|\"college fo...</td>\n",
       "      <td>687</td>\n",
       "      <td>10</td>\n",
       "      <td>2</td>\n",
       "      <td>5</td>\n",
       "      <td>0</td>\n",
       "      <td>0</td>\n",
       "      <td>0</td>\n",
       "      <td>Sports</td>\n",
       "    </tr>\n",
       "    <tr>\n",
       "      <th>14531</th>\n",
       "      <td>US</td>\n",
       "      <td>dQMZLXaa1L8</td>\n",
       "      <td>18.27.01</td>\n",
       "      <td>Artwork Forge</td>\n",
       "      <td>Palo Alto Online</td>\n",
       "      <td>17</td>\n",
       "      <td>2018-01-10T23:53:56.000Z</td>\n",
       "      <td>[none]</td>\n",
       "      <td>658</td>\n",
       "      <td>1</td>\n",
       "      <td>0</td>\n",
       "      <td>0</td>\n",
       "      <td>0</td>\n",
       "      <td>0</td>\n",
       "      <td>0</td>\n",
       "      <td>Sports</td>\n",
       "    </tr>\n",
       "    <tr>\n",
       "      <th>14782</th>\n",
       "      <td>US</td>\n",
       "      <td>y6KYFcta4SE</td>\n",
       "      <td>18.28.01</td>\n",
       "      <td>1 dead, others injured after Ky. school shooting</td>\n",
       "      <td>Newsy</td>\n",
       "      <td>25</td>\n",
       "      <td>2018-01-23T15:30:01.000Z</td>\n",
       "      <td>shooting|\"kentucky\"|\"breaking news\"|\"u.s. news...</td>\n",
       "      <td>559</td>\n",
       "      <td>9</td>\n",
       "      <td>0</td>\n",
       "      <td>4</td>\n",
       "      <td>0</td>\n",
       "      <td>0</td>\n",
       "      <td>0</td>\n",
       "      <td>News &amp; Politics</td>\n",
       "    </tr>\n",
       "    <tr>\n",
       "      <th>14563</th>\n",
       "      <td>US</td>\n",
       "      <td>y6KYFcta4SE</td>\n",
       "      <td>18.27.01</td>\n",
       "      <td>1 dead, others injured after Ky. school shooting</td>\n",
       "      <td>Newsy</td>\n",
       "      <td>25</td>\n",
       "      <td>2018-01-23T15:30:01.000Z</td>\n",
       "      <td>shooting|\"kentucky\"|\"breaking news\"|\"u.s. news...</td>\n",
       "      <td>554</td>\n",
       "      <td>9</td>\n",
       "      <td>0</td>\n",
       "      <td>4</td>\n",
       "      <td>0</td>\n",
       "      <td>0</td>\n",
       "      <td>0</td>\n",
       "      <td>News &amp; Politics</td>\n",
       "    </tr>\n",
       "    <tr>\n",
       "      <th>14335</th>\n",
       "      <td>US</td>\n",
       "      <td>y6KYFcta4SE</td>\n",
       "      <td>18.26.01</td>\n",
       "      <td>1 dead, others injured after Ky. school shooting</td>\n",
       "      <td>Newsy</td>\n",
       "      <td>25</td>\n",
       "      <td>2018-01-23T15:30:01.000Z</td>\n",
       "      <td>shooting|\"kentucky\"|\"breaking news\"|\"u.s. news...</td>\n",
       "      <td>549</td>\n",
       "      <td>9</td>\n",
       "      <td>0</td>\n",
       "      <td>5</td>\n",
       "      <td>0</td>\n",
       "      <td>0</td>\n",
       "      <td>0</td>\n",
       "      <td>News &amp; Politics</td>\n",
       "    </tr>\n",
       "  </tbody>\n",
       "</table>\n",
       "<p>40949 rows × 16 columns</p>\n",
       "</div>"
      ],
      "text/plain": [
       "      Country     Video ID      Date  ... Ratings Disabled Error         Category\n",
       "38547      US  VYOjWnS4cMY  18.02.06  ...                0     0            Music\n",
       "38345      US  VYOjWnS4cMY  18.01.06  ...                0     0            Music\n",
       "38146      US  VYOjWnS4cMY  18.31.05  ...                0     0            Music\n",
       "37935      US  VYOjWnS4cMY  18.30.05  ...                0     0            Music\n",
       "37730      US  VYOjWnS4cMY  18.29.05  ...                0     0            Music\n",
       "...       ...          ...       ...  ...              ...   ...              ...\n",
       "546        US  -JVITToppE0  17.16.11  ...                0     0           Sports\n",
       "14531      US  dQMZLXaa1L8  18.27.01  ...                0     0           Sports\n",
       "14782      US  y6KYFcta4SE  18.28.01  ...                0     0  News & Politics\n",
       "14563      US  y6KYFcta4SE  18.27.01  ...                0     0  News & Politics\n",
       "14335      US  y6KYFcta4SE  18.26.01  ...                0     0  News & Politics\n",
       "\n",
       "[40949 rows x 16 columns]"
      ]
     },
     "execution_count": 14,
     "metadata": {
      "tags": []
     },
     "output_type": "execute_result"
    }
   ],
   "source": [
    "# add respective category to each row based on its category ID\n",
    "US_df = US_df.merge(categories_df, how= \"left\", left_on= \"Category ID\", right_index = True)\n",
    "US_df"
   ]
  },
  {
   "cell_type": "code",
   "execution_count": 15,
   "metadata": {
    "colab": {
     "base_uri": "https://localhost:8080/",
     "height": 419
    },
    "id": "mtlaHvSa8g4X",
    "outputId": "2288eeff-802b-4fc5-8f1a-569c8dc51505"
   },
   "outputs": [
    {
     "data": {
      "text/html": [
       "<div>\n",
       "<style scoped>\n",
       "    .dataframe tbody tr th:only-of-type {\n",
       "        vertical-align: middle;\n",
       "    }\n",
       "\n",
       "    .dataframe tbody tr th {\n",
       "        vertical-align: top;\n",
       "    }\n",
       "\n",
       "    .dataframe thead th {\n",
       "        text-align: right;\n",
       "    }\n",
       "</style>\n",
       "<table border=\"1\" class=\"dataframe\">\n",
       "  <thead>\n",
       "    <tr style=\"text-align: right;\">\n",
       "      <th></th>\n",
       "      <th>Country</th>\n",
       "      <th>Video ID</th>\n",
       "      <th>Date</th>\n",
       "      <th>Title</th>\n",
       "      <th>Channel</th>\n",
       "      <th>Category ID</th>\n",
       "      <th>Category</th>\n",
       "      <th>Published</th>\n",
       "      <th>Tags</th>\n",
       "      <th>Views</th>\n",
       "      <th>Likes</th>\n",
       "      <th>Dislikes</th>\n",
       "      <th>Num Comments</th>\n",
       "      <th>Comments Disabled</th>\n",
       "      <th>Ratings Disabled</th>\n",
       "      <th>Error</th>\n",
       "    </tr>\n",
       "  </thead>\n",
       "  <tbody>\n",
       "    <tr>\n",
       "      <th>38547</th>\n",
       "      <td>US</td>\n",
       "      <td>VYOjWnS4cMY</td>\n",
       "      <td>18.02.06</td>\n",
       "      <td>Childish Gambino - This Is America (Official V...</td>\n",
       "      <td>ChildishGambinoVEVO</td>\n",
       "      <td>10</td>\n",
       "      <td>Music</td>\n",
       "      <td>2018-05-06T04:00:07.000Z</td>\n",
       "      <td>Childish Gambino|\"Rap\"|\"This Is America\"|\"mcDJ...</td>\n",
       "      <td>225211923</td>\n",
       "      <td>5023450</td>\n",
       "      <td>343541</td>\n",
       "      <td>517232</td>\n",
       "      <td>0</td>\n",
       "      <td>0</td>\n",
       "      <td>0</td>\n",
       "    </tr>\n",
       "    <tr>\n",
       "      <th>38345</th>\n",
       "      <td>US</td>\n",
       "      <td>VYOjWnS4cMY</td>\n",
       "      <td>18.01.06</td>\n",
       "      <td>Childish Gambino - This Is America (Official V...</td>\n",
       "      <td>ChildishGambinoVEVO</td>\n",
       "      <td>10</td>\n",
       "      <td>Music</td>\n",
       "      <td>2018-05-06T04:00:07.000Z</td>\n",
       "      <td>Childish Gambino|\"Rap\"|\"This Is America\"|\"mcDJ...</td>\n",
       "      <td>220490543</td>\n",
       "      <td>4962403</td>\n",
       "      <td>338105</td>\n",
       "      <td>512337</td>\n",
       "      <td>0</td>\n",
       "      <td>0</td>\n",
       "      <td>0</td>\n",
       "    </tr>\n",
       "    <tr>\n",
       "      <th>38146</th>\n",
       "      <td>US</td>\n",
       "      <td>VYOjWnS4cMY</td>\n",
       "      <td>18.31.05</td>\n",
       "      <td>Childish Gambino - This Is America (Official V...</td>\n",
       "      <td>ChildishGambinoVEVO</td>\n",
       "      <td>10</td>\n",
       "      <td>Music</td>\n",
       "      <td>2018-05-06T04:00:07.000Z</td>\n",
       "      <td>Childish Gambino|\"Rap\"|\"This Is America\"|\"mcDJ...</td>\n",
       "      <td>217750076</td>\n",
       "      <td>4934188</td>\n",
       "      <td>335462</td>\n",
       "      <td>509799</td>\n",
       "      <td>0</td>\n",
       "      <td>0</td>\n",
       "      <td>0</td>\n",
       "    </tr>\n",
       "    <tr>\n",
       "      <th>37935</th>\n",
       "      <td>US</td>\n",
       "      <td>VYOjWnS4cMY</td>\n",
       "      <td>18.30.05</td>\n",
       "      <td>Childish Gambino - This Is America (Official V...</td>\n",
       "      <td>ChildishGambinoVEVO</td>\n",
       "      <td>10</td>\n",
       "      <td>Music</td>\n",
       "      <td>2018-05-06T04:00:07.000Z</td>\n",
       "      <td>Childish Gambino|\"Rap\"|\"This Is America\"|\"mcDJ...</td>\n",
       "      <td>210338856</td>\n",
       "      <td>4836448</td>\n",
       "      <td>326902</td>\n",
       "      <td>501722</td>\n",
       "      <td>0</td>\n",
       "      <td>0</td>\n",
       "      <td>0</td>\n",
       "    </tr>\n",
       "    <tr>\n",
       "      <th>37730</th>\n",
       "      <td>US</td>\n",
       "      <td>VYOjWnS4cMY</td>\n",
       "      <td>18.29.05</td>\n",
       "      <td>Childish Gambino - This Is America (Official V...</td>\n",
       "      <td>ChildishGambinoVEVO</td>\n",
       "      <td>10</td>\n",
       "      <td>Music</td>\n",
       "      <td>2018-05-06T04:00:07.000Z</td>\n",
       "      <td>Childish Gambino|\"Rap\"|\"This Is America\"|\"mcDJ...</td>\n",
       "      <td>205643016</td>\n",
       "      <td>4776680</td>\n",
       "      <td>321493</td>\n",
       "      <td>496211</td>\n",
       "      <td>0</td>\n",
       "      <td>0</td>\n",
       "      <td>0</td>\n",
       "    </tr>\n",
       "    <tr>\n",
       "      <th>...</th>\n",
       "      <td>...</td>\n",
       "      <td>...</td>\n",
       "      <td>...</td>\n",
       "      <td>...</td>\n",
       "      <td>...</td>\n",
       "      <td>...</td>\n",
       "      <td>...</td>\n",
       "      <td>...</td>\n",
       "      <td>...</td>\n",
       "      <td>...</td>\n",
       "      <td>...</td>\n",
       "      <td>...</td>\n",
       "      <td>...</td>\n",
       "      <td>...</td>\n",
       "      <td>...</td>\n",
       "      <td>...</td>\n",
       "    </tr>\n",
       "    <tr>\n",
       "      <th>546</th>\n",
       "      <td>US</td>\n",
       "      <td>-JVITToppE0</td>\n",
       "      <td>17.16.11</td>\n",
       "      <td>Coach Taggart Monday Presser Ahead of Arizona</td>\n",
       "      <td>GoDucksdotcom</td>\n",
       "      <td>17</td>\n",
       "      <td>Sports</td>\n",
       "      <td>2017-11-13T20:41:45.000Z</td>\n",
       "      <td>Oregon|\"Ducks\"|\"college athletics\"|\"college fo...</td>\n",
       "      <td>687</td>\n",
       "      <td>10</td>\n",
       "      <td>2</td>\n",
       "      <td>5</td>\n",
       "      <td>0</td>\n",
       "      <td>0</td>\n",
       "      <td>0</td>\n",
       "    </tr>\n",
       "    <tr>\n",
       "      <th>14531</th>\n",
       "      <td>US</td>\n",
       "      <td>dQMZLXaa1L8</td>\n",
       "      <td>18.27.01</td>\n",
       "      <td>Artwork Forge</td>\n",
       "      <td>Palo Alto Online</td>\n",
       "      <td>17</td>\n",
       "      <td>Sports</td>\n",
       "      <td>2018-01-10T23:53:56.000Z</td>\n",
       "      <td>[none]</td>\n",
       "      <td>658</td>\n",
       "      <td>1</td>\n",
       "      <td>0</td>\n",
       "      <td>0</td>\n",
       "      <td>0</td>\n",
       "      <td>0</td>\n",
       "      <td>0</td>\n",
       "    </tr>\n",
       "    <tr>\n",
       "      <th>14782</th>\n",
       "      <td>US</td>\n",
       "      <td>y6KYFcta4SE</td>\n",
       "      <td>18.28.01</td>\n",
       "      <td>1 dead, others injured after Ky. school shooting</td>\n",
       "      <td>Newsy</td>\n",
       "      <td>25</td>\n",
       "      <td>News &amp; Politics</td>\n",
       "      <td>2018-01-23T15:30:01.000Z</td>\n",
       "      <td>shooting|\"kentucky\"|\"breaking news\"|\"u.s. news...</td>\n",
       "      <td>559</td>\n",
       "      <td>9</td>\n",
       "      <td>0</td>\n",
       "      <td>4</td>\n",
       "      <td>0</td>\n",
       "      <td>0</td>\n",
       "      <td>0</td>\n",
       "    </tr>\n",
       "    <tr>\n",
       "      <th>14563</th>\n",
       "      <td>US</td>\n",
       "      <td>y6KYFcta4SE</td>\n",
       "      <td>18.27.01</td>\n",
       "      <td>1 dead, others injured after Ky. school shooting</td>\n",
       "      <td>Newsy</td>\n",
       "      <td>25</td>\n",
       "      <td>News &amp; Politics</td>\n",
       "      <td>2018-01-23T15:30:01.000Z</td>\n",
       "      <td>shooting|\"kentucky\"|\"breaking news\"|\"u.s. news...</td>\n",
       "      <td>554</td>\n",
       "      <td>9</td>\n",
       "      <td>0</td>\n",
       "      <td>4</td>\n",
       "      <td>0</td>\n",
       "      <td>0</td>\n",
       "      <td>0</td>\n",
       "    </tr>\n",
       "    <tr>\n",
       "      <th>14335</th>\n",
       "      <td>US</td>\n",
       "      <td>y6KYFcta4SE</td>\n",
       "      <td>18.26.01</td>\n",
       "      <td>1 dead, others injured after Ky. school shooting</td>\n",
       "      <td>Newsy</td>\n",
       "      <td>25</td>\n",
       "      <td>News &amp; Politics</td>\n",
       "      <td>2018-01-23T15:30:01.000Z</td>\n",
       "      <td>shooting|\"kentucky\"|\"breaking news\"|\"u.s. news...</td>\n",
       "      <td>549</td>\n",
       "      <td>9</td>\n",
       "      <td>0</td>\n",
       "      <td>5</td>\n",
       "      <td>0</td>\n",
       "      <td>0</td>\n",
       "      <td>0</td>\n",
       "    </tr>\n",
       "  </tbody>\n",
       "</table>\n",
       "<p>40949 rows × 16 columns</p>\n",
       "</div>"
      ],
      "text/plain": [
       "      Country     Video ID  ... Ratings Disabled Error\n",
       "38547      US  VYOjWnS4cMY  ...                0     0\n",
       "38345      US  VYOjWnS4cMY  ...                0     0\n",
       "38146      US  VYOjWnS4cMY  ...                0     0\n",
       "37935      US  VYOjWnS4cMY  ...                0     0\n",
       "37730      US  VYOjWnS4cMY  ...                0     0\n",
       "...       ...          ...  ...              ...   ...\n",
       "546        US  -JVITToppE0  ...                0     0\n",
       "14531      US  dQMZLXaa1L8  ...                0     0\n",
       "14782      US  y6KYFcta4SE  ...                0     0\n",
       "14563      US  y6KYFcta4SE  ...                0     0\n",
       "14335      US  y6KYFcta4SE  ...                0     0\n",
       "\n",
       "[40949 rows x 16 columns]"
      ]
     },
     "execution_count": 15,
     "metadata": {
      "tags": []
     },
     "output_type": "execute_result"
    }
   ],
   "source": [
    "# remove Country from the list and add it after Category ID\n",
    "category_data = US_df[\"Category\"]\n",
    "category_data\n",
    "US_df = US_df.drop(labels=[\"Category\"], axis=1)\n",
    "US_df.insert(6, \"Category\", category_data)\n",
    "US_df"
   ]
  },
  {
   "cell_type": "code",
   "execution_count": 16,
   "metadata": {
    "colab": {
     "base_uri": "https://localhost:8080/"
    },
    "id": "M6sQfJrDERIJ",
    "outputId": "6158b984-cd9f-4b1b-9843-092774d79e50"
   },
   "outputs": [
    {
     "name": "stdout",
     "output_type": "stream",
     "text": [
      "Category ID count:\n",
      " 24    9964\n",
      "10    6472\n",
      "26    4146\n",
      "23    3457\n",
      "22    3210\n",
      "25    2487\n",
      "28    2401\n",
      "1     2345\n",
      "17    2174\n",
      "27    1656\n",
      "15     920\n",
      "20     817\n",
      "19     402\n",
      "2      384\n",
      "29      57\n",
      "43      57\n",
      "Name: Category ID, dtype: int64\n"
     ]
    }
   ],
   "source": [
    "print(\"Category ID count:\\n\", US_df[\"Category ID\"].value_counts())"
   ]
  },
  {
   "cell_type": "markdown",
   "metadata": {
    "id": "0btgPmyzWoMu"
   },
   "source": [
    "From the Category ID distribution, we can see that category 24, which is Entertainment, contains the highest amount of trending videos. This is quite understandable as one of the main primary uses and popular types of videos on Youtube are Entertainment based. The second most popular category is category 10, which is Music. This is also quite understandable as musicians post their music videos on Youtube and those usually gain the most amount of views, and usually trend for a period of time after the initial release. Lastly, the third most popular category is category 26, Howto & Style, which is also a main use for almost all generations -- looking up tutorials. The least popular video category with the fewest trending videos is category 43, which is shows. This is a bit surprising as  sometimes the trailers for new episodes on shows are featured, but also makes sense as full episodes of shows are usually never fully available on YouTube, and are present on other apps like Netflix, Disney+, HBOMax, etc. "
   ]
  },
  {
   "cell_type": "code",
   "execution_count": 17,
   "metadata": {
    "colab": {
     "base_uri": "https://localhost:8080/"
    },
    "id": "9KdmNmmPUax-",
    "outputId": "acab5371-8f1a-4f87-ca3e-cd36029a99dc"
   },
   "outputs": [
    {
     "name": "stdout",
     "output_type": "stream",
     "text": [
      "Channel counts:\n",
      " ESPN                                       203\n",
      "The Tonight Show Starring Jimmy Fallon     197\n",
      "Netflix                                    193\n",
      "Vox                                        193\n",
      "TheEllenShow                               193\n",
      "                                          ... \n",
      "Tamar Chronicles                             1\n",
      "Movieclips Film Festivals & Indie Films      1\n",
      "TrainVEVO                                    1\n",
      "KSNV News 3 Las Vegas                        1\n",
      "LetsGoWarriors                               1\n",
      "Name: Channel, Length: 2207, dtype: int64\n"
     ]
    }
   ],
   "source": [
    "print(\"Channel counts:\\n\", US_df[\"Channel\"].value_counts())"
   ]
  },
  {
   "cell_type": "markdown",
   "metadata": {
    "id": "45mojR-qhSfS"
   },
   "source": [
    "From the Channel distribution, it is evident that the channel with the most amount of trending vidoes is ESPN, which is a form of entertainment, as that channel highlights the main sporting events. Sports is a crucial form of entertainment in most US households, so it makes sense that it is one of the most trending channels. It is important to note that the top 5 categories all have a frequency in the 190s, and these categories are Jimmy Falon's tonight show, one of the most popular entertainment late night shows, Vox, Netflix, and TheEllenShow, one of the most popoular daytime entertainment talk shows. "
   ]
  },
  {
   "cell_type": "code",
   "execution_count": 18,
   "metadata": {
    "colab": {
     "base_uri": "https://localhost:8080/",
     "height": 297
    },
    "id": "zP8BBgUAERIK",
    "outputId": "914eceff-2333-4a92-c10a-b497423fa4d3"
   },
   "outputs": [
    {
     "data": {
      "text/html": [
       "<div>\n",
       "<style scoped>\n",
       "    .dataframe tbody tr th:only-of-type {\n",
       "        vertical-align: middle;\n",
       "    }\n",
       "\n",
       "    .dataframe tbody tr th {\n",
       "        vertical-align: top;\n",
       "    }\n",
       "\n",
       "    .dataframe thead th {\n",
       "        text-align: right;\n",
       "    }\n",
       "</style>\n",
       "<table border=\"1\" class=\"dataframe\">\n",
       "  <thead>\n",
       "    <tr style=\"text-align: right;\">\n",
       "      <th></th>\n",
       "      <th>Category ID</th>\n",
       "      <th>Views</th>\n",
       "      <th>Likes</th>\n",
       "      <th>Dislikes</th>\n",
       "      <th>Num Comments</th>\n",
       "      <th>Comments Disabled</th>\n",
       "      <th>Ratings Disabled</th>\n",
       "      <th>Error</th>\n",
       "    </tr>\n",
       "  </thead>\n",
       "  <tbody>\n",
       "    <tr>\n",
       "      <th>count</th>\n",
       "      <td>40949.000000</td>\n",
       "      <td>4.094900e+04</td>\n",
       "      <td>4.094900e+04</td>\n",
       "      <td>4.094900e+04</td>\n",
       "      <td>4.094900e+04</td>\n",
       "      <td>40949.000000</td>\n",
       "      <td>40949.000000</td>\n",
       "      <td>40949.000000</td>\n",
       "    </tr>\n",
       "    <tr>\n",
       "      <th>mean</th>\n",
       "      <td>19.972429</td>\n",
       "      <td>2.360785e+06</td>\n",
       "      <td>7.426670e+04</td>\n",
       "      <td>3.711401e+03</td>\n",
       "      <td>8.446804e+03</td>\n",
       "      <td>0.015458</td>\n",
       "      <td>0.004127</td>\n",
       "      <td>0.000562</td>\n",
       "    </tr>\n",
       "    <tr>\n",
       "      <th>std</th>\n",
       "      <td>7.568327</td>\n",
       "      <td>7.394114e+06</td>\n",
       "      <td>2.288853e+05</td>\n",
       "      <td>2.902971e+04</td>\n",
       "      <td>3.743049e+04</td>\n",
       "      <td>0.123368</td>\n",
       "      <td>0.064110</td>\n",
       "      <td>0.023693</td>\n",
       "    </tr>\n",
       "    <tr>\n",
       "      <th>min</th>\n",
       "      <td>1.000000</td>\n",
       "      <td>5.490000e+02</td>\n",
       "      <td>0.000000e+00</td>\n",
       "      <td>0.000000e+00</td>\n",
       "      <td>0.000000e+00</td>\n",
       "      <td>0.000000</td>\n",
       "      <td>0.000000</td>\n",
       "      <td>0.000000</td>\n",
       "    </tr>\n",
       "    <tr>\n",
       "      <th>25%</th>\n",
       "      <td>17.000000</td>\n",
       "      <td>2.423290e+05</td>\n",
       "      <td>5.424000e+03</td>\n",
       "      <td>2.020000e+02</td>\n",
       "      <td>6.140000e+02</td>\n",
       "      <td>0.000000</td>\n",
       "      <td>0.000000</td>\n",
       "      <td>0.000000</td>\n",
       "    </tr>\n",
       "    <tr>\n",
       "      <th>50%</th>\n",
       "      <td>24.000000</td>\n",
       "      <td>6.818610e+05</td>\n",
       "      <td>1.809100e+04</td>\n",
       "      <td>6.310000e+02</td>\n",
       "      <td>1.856000e+03</td>\n",
       "      <td>0.000000</td>\n",
       "      <td>0.000000</td>\n",
       "      <td>0.000000</td>\n",
       "    </tr>\n",
       "    <tr>\n",
       "      <th>75%</th>\n",
       "      <td>25.000000</td>\n",
       "      <td>1.823157e+06</td>\n",
       "      <td>5.541700e+04</td>\n",
       "      <td>1.938000e+03</td>\n",
       "      <td>5.755000e+03</td>\n",
       "      <td>0.000000</td>\n",
       "      <td>0.000000</td>\n",
       "      <td>0.000000</td>\n",
       "    </tr>\n",
       "    <tr>\n",
       "      <th>max</th>\n",
       "      <td>43.000000</td>\n",
       "      <td>2.252119e+08</td>\n",
       "      <td>5.613827e+06</td>\n",
       "      <td>1.674420e+06</td>\n",
       "      <td>1.361580e+06</td>\n",
       "      <td>1.000000</td>\n",
       "      <td>1.000000</td>\n",
       "      <td>1.000000</td>\n",
       "    </tr>\n",
       "  </tbody>\n",
       "</table>\n",
       "</div>"
      ],
      "text/plain": [
       "        Category ID         Views  ...  Ratings Disabled         Error\n",
       "count  40949.000000  4.094900e+04  ...      40949.000000  40949.000000\n",
       "mean      19.972429  2.360785e+06  ...          0.004127      0.000562\n",
       "std        7.568327  7.394114e+06  ...          0.064110      0.023693\n",
       "min        1.000000  5.490000e+02  ...          0.000000      0.000000\n",
       "25%       17.000000  2.423290e+05  ...          0.000000      0.000000\n",
       "50%       24.000000  6.818610e+05  ...          0.000000      0.000000\n",
       "75%       25.000000  1.823157e+06  ...          0.000000      0.000000\n",
       "max       43.000000  2.252119e+08  ...          1.000000      1.000000\n",
       "\n",
       "[8 rows x 8 columns]"
      ]
     },
     "execution_count": 18,
     "metadata": {
      "tags": []
     },
     "output_type": "execute_result"
    }
   ],
   "source": [
    "# general statistics about the data distribution\n",
    "US_df.describe()"
   ]
  },
  {
   "cell_type": "code",
   "execution_count": 19,
   "metadata": {
    "colab": {
     "base_uri": "https://localhost:8080/",
     "height": 318
    },
    "id": "if3vIihUERIU",
    "outputId": "4feb4d00-f892-4589-eccd-5127b3fa23f6"
   },
   "outputs": [
    {
     "data": {
      "image/png": "[encoded data removed]",
      "text/plain": [
       "<Figure size 1080x1080 with 12 Axes>"
      ]
     },
     "metadata": {
      "needs_background": "light",
      "tags": []
     },
     "output_type": "display_data"
    }
   ],
   "source": [
    "cont_features = [\"Views\", \"Likes\", \"Dislikes\",  \"Num Comments\"]\n",
    "# univariate analysis for continuous features to visualize the distributions of the variables  \n",
    "US_df[cont_features].plot(kind='box', figsize=(15, 15), subplots=True, layout=(3, 4))\n",
    "plt.show()"
   ]
  },
  {
   "cell_type": "code",
   "execution_count": 20,
   "metadata": {
    "colab": {
     "base_uri": "https://localhost:8080/",
     "height": 297
    },
    "id": "moaFtJTrERIK",
    "outputId": "4fa6e3e5-2033-4758-ddae-62b80679b636"
   },
   "outputs": [
    {
     "data": {
      "text/html": [
       "<div>\n",
       "<style scoped>\n",
       "    .dataframe tbody tr th:only-of-type {\n",
       "        vertical-align: middle;\n",
       "    }\n",
       "\n",
       "    .dataframe tbody tr th {\n",
       "        vertical-align: top;\n",
       "    }\n",
       "\n",
       "    .dataframe thead th {\n",
       "        text-align: right;\n",
       "    }\n",
       "</style>\n",
       "<table border=\"1\" class=\"dataframe\">\n",
       "  <thead>\n",
       "    <tr style=\"text-align: right;\">\n",
       "      <th></th>\n",
       "      <th>Category ID</th>\n",
       "      <th>Views</th>\n",
       "      <th>Likes</th>\n",
       "      <th>Dislikes</th>\n",
       "      <th>Num Comments</th>\n",
       "      <th>Comments Disabled</th>\n",
       "      <th>Ratings Disabled</th>\n",
       "      <th>Error</th>\n",
       "    </tr>\n",
       "  </thead>\n",
       "  <tbody>\n",
       "    <tr>\n",
       "      <th>Category ID</th>\n",
       "      <td>1.000000</td>\n",
       "      <td>-0.168231</td>\n",
       "      <td>-0.173921</td>\n",
       "      <td>-0.033547</td>\n",
       "      <td>-0.076307</td>\n",
       "      <td>0.048949</td>\n",
       "      <td>-0.013506</td>\n",
       "      <td>-0.030011</td>\n",
       "    </tr>\n",
       "    <tr>\n",
       "      <th>Views</th>\n",
       "      <td>-0.168231</td>\n",
       "      <td>1.000000</td>\n",
       "      <td>0.849177</td>\n",
       "      <td>0.472213</td>\n",
       "      <td>0.617621</td>\n",
       "      <td>0.002677</td>\n",
       "      <td>0.015355</td>\n",
       "      <td>-0.002256</td>\n",
       "    </tr>\n",
       "    <tr>\n",
       "      <th>Likes</th>\n",
       "      <td>-0.173921</td>\n",
       "      <td>0.849177</td>\n",
       "      <td>1.000000</td>\n",
       "      <td>0.447186</td>\n",
       "      <td>0.803057</td>\n",
       "      <td>-0.028918</td>\n",
       "      <td>-0.020888</td>\n",
       "      <td>-0.002641</td>\n",
       "    </tr>\n",
       "    <tr>\n",
       "      <th>Dislikes</th>\n",
       "      <td>-0.033547</td>\n",
       "      <td>0.472213</td>\n",
       "      <td>0.447186</td>\n",
       "      <td>1.000000</td>\n",
       "      <td>0.700184</td>\n",
       "      <td>-0.004431</td>\n",
       "      <td>-0.008230</td>\n",
       "      <td>-0.001853</td>\n",
       "    </tr>\n",
       "    <tr>\n",
       "      <th>Num Comments</th>\n",
       "      <td>-0.076307</td>\n",
       "      <td>0.617621</td>\n",
       "      <td>0.803057</td>\n",
       "      <td>0.700184</td>\n",
       "      <td>1.000000</td>\n",
       "      <td>-0.028277</td>\n",
       "      <td>-0.013819</td>\n",
       "      <td>-0.003725</td>\n",
       "    </tr>\n",
       "    <tr>\n",
       "      <th>Comments Disabled</th>\n",
       "      <td>0.048949</td>\n",
       "      <td>0.002677</td>\n",
       "      <td>-0.028918</td>\n",
       "      <td>-0.004431</td>\n",
       "      <td>-0.028277</td>\n",
       "      <td>1.000000</td>\n",
       "      <td>0.319230</td>\n",
       "      <td>-0.002970</td>\n",
       "    </tr>\n",
       "    <tr>\n",
       "      <th>Ratings Disabled</th>\n",
       "      <td>-0.013506</td>\n",
       "      <td>0.015355</td>\n",
       "      <td>-0.020888</td>\n",
       "      <td>-0.008230</td>\n",
       "      <td>-0.013819</td>\n",
       "      <td>0.319230</td>\n",
       "      <td>1.000000</td>\n",
       "      <td>-0.001526</td>\n",
       "    </tr>\n",
       "    <tr>\n",
       "      <th>Error</th>\n",
       "      <td>-0.030011</td>\n",
       "      <td>-0.002256</td>\n",
       "      <td>-0.002641</td>\n",
       "      <td>-0.001853</td>\n",
       "      <td>-0.003725</td>\n",
       "      <td>-0.002970</td>\n",
       "      <td>-0.001526</td>\n",
       "      <td>1.000000</td>\n",
       "    </tr>\n",
       "  </tbody>\n",
       "</table>\n",
       "</div>"
      ],
      "text/plain": [
       "                   Category ID     Views  ...  Ratings Disabled     Error\n",
       "Category ID           1.000000 -0.168231  ...         -0.013506 -0.030011\n",
       "Views                -0.168231  1.000000  ...          0.015355 -0.002256\n",
       "Likes                -0.173921  0.849177  ...         -0.020888 -0.002641\n",
       "Dislikes             -0.033547  0.472213  ...         -0.008230 -0.001853\n",
       "Num Comments         -0.076307  0.617621  ...         -0.013819 -0.003725\n",
       "Comments Disabled     0.048949  0.002677  ...          0.319230 -0.002970\n",
       "Ratings Disabled     -0.013506  0.015355  ...          1.000000 -0.001526\n",
       "Error                -0.030011 -0.002256  ...         -0.001526  1.000000\n",
       "\n",
       "[8 rows x 8 columns]"
      ]
     },
     "execution_count": 20,
     "metadata": {
      "tags": []
     },
     "output_type": "execute_result"
    }
   ],
   "source": [
    "# correlations between the main continuous varibles\n",
    "US_corrs = US_df.corr()\n",
    "US_corrs"
   ]
  },
  {
   "cell_type": "code",
   "execution_count": 21,
   "metadata": {
    "colab": {
     "base_uri": "https://localhost:8080/",
     "height": 869
    },
    "id": "Qnhb_7wfERIT",
    "outputId": "4e5866d5-5c91-4aae-e414-8bfba235426b"
   },
   "outputs": [
    {
     "data": {
      "image/png": "[encoded data removed]",
      "text/plain": [
       "<Figure size 864x864 with 2 Axes>"
      ]
     },
     "metadata": {
      "needs_background": "light",
      "tags": []
     },
     "output_type": "display_data"
    }
   ],
   "source": [
    "# visualize correlation matrix in a heatmap to easily depict the highly correlated variables\n",
    "plt.figure(figsize=(12, 12))\n",
    "sns.heatmap(US_corrs, annot=True, vmin=-1.0, cmap='PuBuGn')\n",
    "plt.show()"
   ]
  },
  {
   "cell_type": "markdown",
   "metadata": {
    "id": "F6IPZXZml_qn"
   },
   "source": [
    "Based on the heatmap of the correlation matrix, it is evident that there is a strong correlation of 0.85 between the number of likes and number of views, which intuitively makes sense as more liked videos will have more views. Similarly, there is also a strong correlation of 0.8 between the number of likes and number of comments as both are correlated in terms of if people like a certain video, they are more likely to comment their reaction as well. The next strongest correlation of 0.70 is between the number of dislikes and the number of comments, as people regardless of their like or dislike towards the video will express their opinions in the comments, so if they are not a fan of the video they will still most likely comment. There is a weaker correlation between the number of dislikes and the number of views, understandably as a more disliked and unpleasant video won't have as many views as one that is more pleasing to viewers."
   ]
  },
  {
   "cell_type": "markdown",
   "metadata": {
    "id": "3YJtg4xuERIU"
   },
   "source": [
    "### **Performing Multivariate Linear Regression -- predicting Number of Views**"
   ]
  },
  {
   "cell_type": "code",
   "execution_count": 22,
   "metadata": {
    "colab": {
     "base_uri": "https://localhost:8080/",
     "height": 321
    },
    "id": "J01KdySry_iQ",
    "outputId": "e02e3ac2-1645-4876-fdfc-84bc4cec25c2"
   },
   "outputs": [
    {
     "data": {
      "image/png": "[encoded data removed]",
      "text/plain": [
       "<Figure size 432x288 with 1 Axes>"
      ]
     },
     "metadata": {
      "needs_background": "light",
      "tags": []
     },
     "output_type": "display_data"
    }
   ],
   "source": [
    "# number of likes vs number of views\n",
    "plt.scatter(US_df[\"Likes\"], US_df[\"Views\"])\n",
    "plt.xlabel(\"Number of Likes\")\n",
    "plt.ylabel(\"Number of Views\")\n",
    "plt.title(\"Likes vs. Views\")\n",
    "plt.show()"
   ]
  },
  {
   "cell_type": "code",
   "execution_count": 23,
   "metadata": {
    "colab": {
     "base_uri": "https://localhost:8080/",
     "height": 321
    },
    "id": "FNm7iV9k0T_z",
    "outputId": "253b1772-724c-4d50-b85f-a5e48afb4a67"
   },
   "outputs": [
    {
     "data": {
      "image/png": "[encoded data removed]",
      "text/plain": [
       "<Figure size 432x288 with 1 Axes>"
      ]
     },
     "metadata": {
      "needs_background": "light",
      "tags": []
     },
     "output_type": "display_data"
    }
   ],
   "source": [
    "# Num Comments vs number of views\n",
    "plt.scatter(US_df[\"Num Comments\"], US_df[\"Views\"])\n",
    "plt.xlabel(\"Num Comments\")\n",
    "plt.ylabel(\"Number of Views\")\n",
    "plt.title(\"Num Comments vs. Views\")\n",
    "plt.show()"
   ]
  },
  {
   "cell_type": "markdown",
   "metadata": {
    "id": "i_eW02uZwRJm"
   },
   "source": [
    "For Model 1 we decided to use the top attribute we found being most correlated to the number of views from our correlation matrix -- the number of likes."
   ]
  },
  {
   "cell_type": "code",
   "execution_count": 24,
   "metadata": {
    "id": "Oh13Yqw0ERIV"
   },
   "outputs": [],
   "source": [
    "# model 1 with the strongest correlating variable to views -- # Likes \n",
    "# num likes predicting views\n",
    "X = US_df[[\"Likes\"]]\n",
    "y = US_df[\"Views\"]"
   ]
  },
  {
   "cell_type": "code",
   "execution_count": 25,
   "metadata": {
    "colab": {
     "base_uri": "https://localhost:8080/",
     "height": 142
    },
    "id": "BRZ2ijcjERIV",
    "outputId": "c6c9b4a0-5417-42e6-e8b8-85a0a9efdc98"
   },
   "outputs": [
    {
     "data": {
      "text/html": [
       "<div>\n",
       "<style scoped>\n",
       "    .dataframe tbody tr th:only-of-type {\n",
       "        vertical-align: middle;\n",
       "    }\n",
       "\n",
       "    .dataframe tbody tr th {\n",
       "        vertical-align: top;\n",
       "    }\n",
       "\n",
       "    .dataframe thead th {\n",
       "        text-align: right;\n",
       "    }\n",
       "</style>\n",
       "<table border=\"1\" class=\"dataframe\">\n",
       "  <thead>\n",
       "    <tr style=\"text-align: right;\">\n",
       "      <th></th>\n",
       "      <th>Actual</th>\n",
       "      <th>Predicted</th>\n",
       "    </tr>\n",
       "  </thead>\n",
       "  <tbody>\n",
       "    <tr>\n",
       "      <th>36632</th>\n",
       "      <td>1217496</td>\n",
       "      <td>2.982076e+06</td>\n",
       "    </tr>\n",
       "    <tr>\n",
       "      <th>16682</th>\n",
       "      <td>46653</td>\n",
       "      <td>3.208438e+05</td>\n",
       "    </tr>\n",
       "    <tr>\n",
       "      <th>19230</th>\n",
       "      <td>275259</td>\n",
       "      <td>6.275131e+05</td>\n",
       "    </tr>\n",
       "  </tbody>\n",
       "</table>\n",
       "</div>"
      ],
      "text/plain": [
       "        Actual     Predicted\n",
       "36632  1217496  2.982076e+06\n",
       "16682    46653  3.208438e+05\n",
       "19230   275259  6.275131e+05"
      ]
     },
     "execution_count": 25,
     "metadata": {
      "tags": []
     },
     "output_type": "execute_result"
    }
   ],
   "source": [
    "# split the data into training and testing sets \n",
    "X_train, X_test, y_train, y_test = train_test_split(X, y, test_size=0.2)\n",
    "\n",
    "# create and train the linear regression model\n",
    "m1_regressor = LinearRegression().fit(X_train, y_train)\n",
    "\n",
    "# make predictions\n",
    "y_pred = m1_regressor.predict(X_test)\n",
    "\n",
    "# results of model 1 actual vs predicteds \n",
    "result1 = pd.DataFrame({'Actual': y_test, 'Predicted': y_pred})\n",
    "result1.head(3)"
   ]
  },
  {
   "cell_type": "code",
   "execution_count": 26,
   "metadata": {
    "colab": {
     "base_uri": "https://localhost:8080/"
    },
    "id": "t0lCE0FAERIW",
    "outputId": "261c3287-a3dc-484c-d907-4ce48f95ba96"
   },
   "outputs": [
    {
     "name": "stdout",
     "output_type": "stream",
     "text": [
      "Y =  27.5262 * Likes + 313989.8126\n"
     ]
    }
   ],
   "source": [
    "# calculate the weights and y-intercept of the linear regression model and display the equation\n",
    "m1_weights = np.round(m1_regressor.coef_, 4)\n",
    "m1_intercept = np.round(m1_regressor.intercept_, 4)\n",
    "\n",
    "print(\"Y = \", m1_weights[0], \"* Likes +\", m1_intercept)"
   ]
  },
  {
   "cell_type": "code",
   "execution_count": 27,
   "metadata": {
    "colab": {
     "base_uri": "https://localhost:8080/",
     "height": 372
    },
    "id": "DixL6H1RERIW",
    "outputId": "35d8e787-a61f-45a8-c85e-8b0d2a191161"
   },
   "outputs": [
    {
     "data": {
      "image/png": "[encoded data removed]",
      "text/plain": [
       "<Figure size 576x360 with 1 Axes>"
      ]
     },
     "metadata": {
      "needs_background": "light",
      "tags": []
     },
     "output_type": "display_data"
    }
   ],
   "source": [
    "# plot the actual values vs the predicted values for model 1 \n",
    "plt.figure(figsize=(8,5))\n",
    "ax = sns.regplot(x=y_test, y=y_pred, ci=None, color=\"b\")"
   ]
  },
  {
   "cell_type": "code",
   "execution_count": 28,
   "metadata": {
    "colab": {
     "base_uri": "https://localhost:8080/"
    },
    "id": "35K9g5bvERIW",
    "outputId": "e8995c38-8281-4673-d6dd-3088677666a0"
   },
   "outputs": [
    {
     "name": "stdout",
     "output_type": "stream",
     "text": [
      "Model 1 MAE: 1239504.991589524\n",
      "Model 1 MSE: 15800304157333.99\n",
      "Model 1 RMSE: 3974959.642227074\n"
     ]
    }
   ],
   "source": [
    "# calculate regressor metrics MSE and RMSE for model 1\n",
    "m1_mae = mean_absolute_error(y_test, y_pred)\n",
    "m1_mse = mean_squared_error(y_test, y_pred)\n",
    "m1_rmse = np.sqrt(mean_squared_error(y_test, y_pred))\n",
    "\n",
    "print(\"Model 1 MAE:\", m1_mae)\n",
    "print(\"Model 1 MSE:\", m1_mse)\n",
    "print(\"Model 1 RMSE:\", m1_rmse)"
   ]
  },
  {
   "cell_type": "markdown",
   "metadata": {
    "id": "B_tJitobwnqq"
   },
   "source": [
    "For Model 2 we decided to use the top two attributes we found being most positively and negatively correlated to the number of views from our correlation matrix. The two attributes most correlated with the number of views are the number of likes and the number of comments."
   ]
  },
  {
   "cell_type": "code",
   "execution_count": 29,
   "metadata": {
    "id": "3Q3gAoXsERIX"
   },
   "outputs": [],
   "source": [
    "# model 2 with the top two most correlating variables \n",
    "# num likes and num comments predicting views\n",
    "X = US_df[[\"Likes\", \"Num Comments\"]]\n",
    "y = US_df[\"Views\"]"
   ]
  },
  {
   "cell_type": "code",
   "execution_count": 30,
   "metadata": {
    "colab": {
     "base_uri": "https://localhost:8080/",
     "height": 204
    },
    "id": "1ZbZcZUsERIY",
    "outputId": "b3f8644a-9f28-48f0-b31b-45bb7df1f437"
   },
   "outputs": [
    {
     "data": {
      "text/html": [
       "<div>\n",
       "<style scoped>\n",
       "    .dataframe tbody tr th:only-of-type {\n",
       "        vertical-align: middle;\n",
       "    }\n",
       "\n",
       "    .dataframe tbody tr th {\n",
       "        vertical-align: top;\n",
       "    }\n",
       "\n",
       "    .dataframe thead th {\n",
       "        text-align: right;\n",
       "    }\n",
       "</style>\n",
       "<table border=\"1\" class=\"dataframe\">\n",
       "  <thead>\n",
       "    <tr style=\"text-align: right;\">\n",
       "      <th></th>\n",
       "      <th>Actual</th>\n",
       "      <th>Predicted</th>\n",
       "    </tr>\n",
       "  </thead>\n",
       "  <tbody>\n",
       "    <tr>\n",
       "      <th>5974</th>\n",
       "      <td>92178</td>\n",
       "      <td>2.471695e+05</td>\n",
       "    </tr>\n",
       "    <tr>\n",
       "      <th>11620</th>\n",
       "      <td>4058571</td>\n",
       "      <td>1.130975e+07</td>\n",
       "    </tr>\n",
       "    <tr>\n",
       "      <th>40852</th>\n",
       "      <td>1237208</td>\n",
       "      <td>9.039145e+05</td>\n",
       "    </tr>\n",
       "    <tr>\n",
       "      <th>8203</th>\n",
       "      <td>1446516</td>\n",
       "      <td>1.787398e+06</td>\n",
       "    </tr>\n",
       "    <tr>\n",
       "      <th>12735</th>\n",
       "      <td>344669</td>\n",
       "      <td>5.426230e+05</td>\n",
       "    </tr>\n",
       "  </tbody>\n",
       "</table>\n",
       "</div>"
      ],
      "text/plain": [
       "        Actual     Predicted\n",
       "5974     92178  2.471695e+05\n",
       "11620  4058571  1.130975e+07\n",
       "40852  1237208  9.039145e+05\n",
       "8203   1446516  1.787398e+06\n",
       "12735   344669  5.426230e+05"
      ]
     },
     "execution_count": 30,
     "metadata": {
      "tags": []
     },
     "output_type": "execute_result"
    }
   ],
   "source": [
    "# split the data into training and testing sets \n",
    "X_train, X_test, y_train, y_test = train_test_split(X, y, test_size=0.2)\n",
    "\n",
    "# create and train the linear regression model\n",
    "m2_regressor = LinearRegression().fit(X_train, y_train)\n",
    "\n",
    "# make predictions\n",
    "y_pred = m2_regressor.predict(X_test)\n",
    "\n",
    "# results of model 2 actual vs predicteds \n",
    "result2 = pd.DataFrame({'Actual': y_test, 'Predicted': y_pred})\n",
    "result2.head()"
   ]
  },
  {
   "cell_type": "code",
   "execution_count": 31,
   "metadata": {
    "colab": {
     "base_uri": "https://localhost:8080/"
    },
    "id": "JC-T72jdERIZ",
    "outputId": "7579427e-1648-4365-8d38-f902e4437033"
   },
   "outputs": [
    {
     "name": "stdout",
     "output_type": "stream",
     "text": [
      "Y =  33.7386 * Likes + -47.0347 * Num Comments + 249964.6429\n"
     ]
    }
   ],
   "source": [
    "# calculate the weights and y-intercept of the linear regression model and display the equation\n",
    "m2_weights = np.round(m2_regressor.coef_, 4)\n",
    "m2_intercept = np.round(m2_regressor.intercept_, 4)\n",
    "\n",
    "m2_weights\n",
    "print(\"Y = \", m2_weights[0], \"* Likes +\", m2_weights[1], \"* Num Comments +\", m2_intercept)"
   ]
  },
  {
   "cell_type": "code",
   "execution_count": 32,
   "metadata": {
    "colab": {
     "base_uri": "https://localhost:8080/"
    },
    "id": "ElH1tdJkERIZ",
    "outputId": "c45c6bad-edb8-457a-d4c5-c1235172e5bd"
   },
   "outputs": [
    {
     "name": "stdout",
     "output_type": "stream",
     "text": [
      "Model 2 MAE: 1242038.4632123664\n",
      "Model 2 MSE: 14048313577092.633\n",
      "Model 2 RMSE: 3748107.999656978\n"
     ]
    }
   ],
   "source": [
    "# calculate regressor metrics MSE and RMSE for model 2\n",
    "m2_mae = mean_absolute_error(y_test, y_pred)\n",
    "m2_mse = mean_squared_error(y_test, y_pred)\n",
    "m2_rmse = np.sqrt(mean_squared_error(y_test, y_pred))\n",
    "\n",
    "print(\"Model 2 MAE:\", m2_mae)\n",
    "print(\"Model 2 MSE:\", m2_mse)\n",
    "print(\"Model 2 RMSE:\", m2_rmse)"
   ]
  },
  {
   "cell_type": "markdown",
   "metadata": {
    "id": "tYFtDn0WGE2B"
   },
   "source": [
    "For model 3, we decided to combine the top three most correlated variables with the number of views, and see how all three together predict the number of views."
   ]
  },
  {
   "cell_type": "code",
   "execution_count": 33,
   "metadata": {
    "id": "DUVwLkSZ5PDG"
   },
   "outputs": [],
   "source": [
    "# model 3 combining num likes, dislikes, and num comments to predict views\n",
    "# model 3 with the top three most correlating variables \n",
    "# num likes and num comments predicting views\n",
    "X = US_df[[\"Likes\", \"Dislikes\", \"Num Comments\"]]\n",
    "y = US_df[\"Views\"]"
   ]
  },
  {
   "cell_type": "code",
   "execution_count": 34,
   "metadata": {
    "colab": {
     "base_uri": "https://localhost:8080/",
     "height": 204
    },
    "id": "NFEh7jwY6fIW",
    "outputId": "0b0de83e-de66-4a30-dc91-034deef562c5"
   },
   "outputs": [
    {
     "data": {
      "text/html": [
       "<div>\n",
       "<style scoped>\n",
       "    .dataframe tbody tr th:only-of-type {\n",
       "        vertical-align: middle;\n",
       "    }\n",
       "\n",
       "    .dataframe tbody tr th {\n",
       "        vertical-align: top;\n",
       "    }\n",
       "\n",
       "    .dataframe thead th {\n",
       "        text-align: right;\n",
       "    }\n",
       "</style>\n",
       "<table border=\"1\" class=\"dataframe\">\n",
       "  <thead>\n",
       "    <tr style=\"text-align: right;\">\n",
       "      <th></th>\n",
       "      <th>Actual</th>\n",
       "      <th>Predicted</th>\n",
       "    </tr>\n",
       "  </thead>\n",
       "  <tbody>\n",
       "    <tr>\n",
       "      <th>1272</th>\n",
       "      <td>720203</td>\n",
       "      <td>9.551324e+05</td>\n",
       "    </tr>\n",
       "    <tr>\n",
       "      <th>18525</th>\n",
       "      <td>1455355</td>\n",
       "      <td>7.255208e+05</td>\n",
       "    </tr>\n",
       "    <tr>\n",
       "      <th>24311</th>\n",
       "      <td>2445835</td>\n",
       "      <td>1.898161e+06</td>\n",
       "    </tr>\n",
       "    <tr>\n",
       "      <th>12313</th>\n",
       "      <td>3333</td>\n",
       "      <td>2.203257e+05</td>\n",
       "    </tr>\n",
       "    <tr>\n",
       "      <th>3510</th>\n",
       "      <td>1266148</td>\n",
       "      <td>1.681769e+06</td>\n",
       "    </tr>\n",
       "  </tbody>\n",
       "</table>\n",
       "</div>"
      ],
      "text/plain": [
       "        Actual     Predicted\n",
       "1272    720203  9.551324e+05\n",
       "18525  1455355  7.255208e+05\n",
       "24311  2445835  1.898161e+06\n",
       "12313     3333  2.203257e+05\n",
       "3510   1266148  1.681769e+06"
      ]
     },
     "execution_count": 34,
     "metadata": {
      "tags": []
     },
     "output_type": "execute_result"
    }
   ],
   "source": [
    "# split the data into training and testing sets \n",
    "X_train, X_test, y_train, y_test = train_test_split(X, y, test_size=0.2)\n",
    "\n",
    "# create and train the linear regression model\n",
    "m3_regressor = LinearRegression().fit(X_train, y_train)\n",
    "\n",
    "# make predictions\n",
    "y_pred = m3_regressor.predict(X_test)\n",
    "\n",
    "# results of model 2 actual vs predicteds \n",
    "result3 = pd.DataFrame({'Actual': y_test, 'Predicted': y_pred})\n",
    "result3.head()"
   ]
  },
  {
   "cell_type": "code",
   "execution_count": 35,
   "metadata": {
    "colab": {
     "base_uri": "https://localhost:8080/"
    },
    "id": "Y4OEuQjw6fR-",
    "outputId": "265a2892-eea5-4ae8-d8ce-17dc191f79a4"
   },
   "outputs": [
    {
     "name": "stdout",
     "output_type": "stream",
     "text": [
      "Y =  33.7386 * Likes + 82.742 * Dislikes +  -100.2195 * Num Comments + 220434.1009\n"
     ]
    }
   ],
   "source": [
    "# calculate the weights and y-intercept of the linear regression model and display the equation\n",
    "m3_weights = np.round(m3_regressor.coef_, 4)\n",
    "m3_intercept = np.round(m3_regressor.intercept_, 4)\n",
    "\n",
    "print(\"Y = \", m2_weights[0], \"* Likes +\", m3_weights[1], \"* Dislikes + \", m3_weights[2], \"* Num Comments +\", m3_intercept)"
   ]
  },
  {
   "cell_type": "code",
   "execution_count": 36,
   "metadata": {
    "colab": {
     "base_uri": "https://localhost:8080/"
    },
    "id": "Qp4ODEQP6fY-",
    "outputId": "a77caafc-181a-4f49-82db-57d958d4da21"
   },
   "outputs": [
    {
     "name": "stdout",
     "output_type": "stream",
     "text": [
      "Model 3 MAE: 1227099.1061006745\n",
      "Model 3 MSE: 11791907654651.506\n",
      "Model 3 RMSE: 3433934.7190433755\n"
     ]
    }
   ],
   "source": [
    "# calculate regressor metrics MSE and RMSE for model 2\n",
    "m3_mae = mean_absolute_error(y_test, y_pred)\n",
    "m3_mse = mean_squared_error(y_test, y_pred)\n",
    "m3_rmse = np.sqrt(mean_squared_error(y_test, y_pred))\n",
    "\n",
    "print(\"Model 3 MAE:\", m3_mae)\n",
    "print(\"Model 3 MSE:\", m3_mse)\n",
    "print(\"Model 3 RMSE:\", m3_rmse)"
   ]
  },
  {
   "cell_type": "markdown",
   "metadata": {
    "id": "_Jcmgp591jOQ"
   },
   "source": [
    "#### **Model Comparison**"
   ]
  },
  {
   "cell_type": "code",
   "execution_count": 37,
   "metadata": {
    "colab": {
     "base_uri": "https://localhost:8080/",
     "height": 330
    },
    "id": "g7YyJiFI3FYQ",
    "outputId": "881c06b0-271e-4634-ef89-c974c7c122c8"
   },
   "outputs": [
    {
     "data": {
      "image/png": "[encoded data removed]",
      "text/plain": [
       "<Figure size 432x288 with 1 Axes>"
      ]
     },
     "metadata": {
      "needs_background": "light",
      "tags": []
     },
     "output_type": "display_data"
    }
   ],
   "source": [
    "# plot and visually compare the MSE's for each model\n",
    "MSE = np.round([m1_mse, m2_mse, m3_mse], 4)\n",
    "labels = [\"Model 1\", \"Model 2\", \"Model 3\"]\n",
    "plt.bar(labels, MSE, color=\"mediumpurple\", width = 0.3)\n",
    "plt.xlabel(\"Models\", labelpad=13)\n",
    "plt.ylabel(\"MSE\", labelpad=13)\n",
    "plt.title(\"Model's MSE\")\n",
    "\n",
    "plt.show()"
   ]
  },
  {
   "cell_type": "markdown",
   "metadata": {
    "id": "c48qOxUEG_y3"
   },
   "source": [
    "Since the scale of the MSE metric is disproportionate to the MAE and RMSE metrics, we further plotted the MAE and RMSE metrics to visualize the differences between those two metrics. "
   ]
  },
  {
   "cell_type": "code",
   "execution_count": 38,
   "metadata": {
    "colab": {
     "base_uri": "https://localhost:8080/",
     "height": 547
    },
    "id": "m8ffS1w42Oqf",
    "outputId": "0ff0c5f4-4f7d-4095-a7e6-88dd9e76f14c"
   },
   "outputs": [
    {
     "data": {
      "image/png": "[encoded data removed]",
      "text/plain": [
       "<Figure size 864x576 with 1 Axes>"
      ]
     },
     "metadata": {
      "needs_background": "light",
      "tags": []
     },
     "output_type": "display_data"
    }
   ],
   "source": [
    "# plot and visually compare the MAE and RMSE metrics for each model\n",
    "plt.figure(figsize=(12, 8))\n",
    "MAE = np.round([m1_mae, m2_mae, m3_mae], 4)\n",
    "RMSE = np.round([m1_rmse, m2_rmse, m3_rmse], 4)\n",
    "labels = [\"Model 1\", \"Model 2\", \"Model 3\"]\n",
    "ind = np.arange(3)\n",
    "width = 0.3\n",
    "plt.bar(ind, MAE, width, label = \"MAE\", color=\"cadetblue\")\n",
    "plt.bar(ind + width, RMSE, width, label = \"RMSE\", color=\"rosybrown\")\n",
    "\n",
    "plt.xlabel(\"Models\", labelpad=13)\n",
    "plt.ylabel(\"Metrics\", labelpad=13)\n",
    "plt.xticks(ind + width/2, (labels))\n",
    "plt.xticks(ha= \"center\")\n",
    "plt.title(\"Model's Metrics\")\n",
    "plt.legend(loc=\"upper right\")\n",
    "\n",
    "plt.show()"
   ]
  },
  {
   "cell_type": "markdown",
   "metadata": {
    "id": "Dni3Eo5P1lta"
   },
   "source": [
    "Overall, we can see that model 3 better predicts the number of views, so all three attributes - the number of likes, dislikes, and number of comments on a video all strongly correlate with the number of views and are an important factor in determing which videos trend."
   ]
  },
  {
   "cell_type": "markdown",
   "metadata": {
    "id": "STzMHokrySII"
   },
   "source": [
    "### **Performing Linear Regression -- predicting Number of Comments with Likes and Dislikes**"
   ]
  },
  {
   "cell_type": "code",
   "execution_count": 39,
   "metadata": {
    "colab": {
     "base_uri": "https://localhost:8080/",
     "height": 321
    },
    "id": "stRssHarERIa",
    "outputId": "d5c5712b-ea8b-4ad2-b77c-1c41f668f147"
   },
   "outputs": [
    {
     "data": {
      "image/png": "[encoded data removed]",
      "text/plain": [
       "<Figure size 432x288 with 1 Axes>"
      ]
     },
     "metadata": {
      "needs_background": "light",
      "tags": []
     },
     "output_type": "display_data"
    }
   ],
   "source": [
    "# num likes vs num comments\n",
    "plt.scatter(US_df[\"Likes\"], US_df[\"Num Comments\"])\n",
    "plt.xlabel(\"Number of Likes\")\n",
    "plt.ylabel(\"Number of Comments\")\n",
    "plt.title(\"Likes vs. Num Comments\")\n",
    "plt.show()"
   ]
  },
  {
   "cell_type": "markdown",
   "metadata": {
    "id": "Ju-RI4wV4mXw"
   },
   "source": [
    "It is evident that there is a strong correlation between the number of likes and the number of views, and similarly we would like to further explore if the number of likes can predict the number of comments. "
   ]
  },
  {
   "cell_type": "code",
   "execution_count": 40,
   "metadata": {
    "id": "nX4bbvU2ERIb"
   },
   "outputs": [],
   "source": [
    "# model 4 with the top correlating variable \n",
    "# num likes predicting num comments\n",
    "X = US_df[[\"Likes\"]]\n",
    "y = US_df[\"Num Comments\"]"
   ]
  },
  {
   "cell_type": "code",
   "execution_count": 41,
   "metadata": {
    "colab": {
     "base_uri": "https://localhost:8080/",
     "height": 204
    },
    "id": "tmjOKER2316F",
    "outputId": "580a3f3b-2001-4b22-da7f-a339ce502e2e"
   },
   "outputs": [
    {
     "data": {
      "text/html": [
       "<div>\n",
       "<style scoped>\n",
       "    .dataframe tbody tr th:only-of-type {\n",
       "        vertical-align: middle;\n",
       "    }\n",
       "\n",
       "    .dataframe tbody tr th {\n",
       "        vertical-align: top;\n",
       "    }\n",
       "\n",
       "    .dataframe thead th {\n",
       "        text-align: right;\n",
       "    }\n",
       "</style>\n",
       "<table border=\"1\" class=\"dataframe\">\n",
       "  <thead>\n",
       "    <tr style=\"text-align: right;\">\n",
       "      <th></th>\n",
       "      <th>Actual</th>\n",
       "      <th>Predicted</th>\n",
       "    </tr>\n",
       "  </thead>\n",
       "  <tbody>\n",
       "    <tr>\n",
       "      <th>31784</th>\n",
       "      <td>1001</td>\n",
       "      <td>-368.355087</td>\n",
       "    </tr>\n",
       "    <tr>\n",
       "      <th>17519</th>\n",
       "      <td>39</td>\n",
       "      <td>-1327.665318</td>\n",
       "    </tr>\n",
       "    <tr>\n",
       "      <th>26438</th>\n",
       "      <td>1462</td>\n",
       "      <td>4182.791126</td>\n",
       "    </tr>\n",
       "    <tr>\n",
       "      <th>34201</th>\n",
       "      <td>0</td>\n",
       "      <td>-971.922227</td>\n",
       "    </tr>\n",
       "    <tr>\n",
       "      <th>2429</th>\n",
       "      <td>1998</td>\n",
       "      <td>1116.842078</td>\n",
       "    </tr>\n",
       "  </tbody>\n",
       "</table>\n",
       "</div>"
      ],
      "text/plain": [
       "       Actual    Predicted\n",
       "31784    1001  -368.355087\n",
       "17519      39 -1327.665318\n",
       "26438    1462  4182.791126\n",
       "34201       0  -971.922227\n",
       "2429     1998  1116.842078"
      ]
     },
     "execution_count": 41,
     "metadata": {
      "tags": []
     },
     "output_type": "execute_result"
    }
   ],
   "source": [
    "# model 4 num likes, dislikes, and num comments predicting views\n",
    "# split the data into training and testing sets \n",
    "X_train, X_test, y_train, y_test = train_test_split(X, y, test_size=0.2)\n",
    "\n",
    "# create and train the linear regression model\n",
    "m4_regressor = LinearRegression().fit(X_train, y_train)\n",
    "\n",
    "# make predictions\n",
    "y_pred = m4_regressor.predict(X_test)\n",
    "\n",
    "# results of model 2 actual vs predicteds \n",
    "result4 = pd.DataFrame({'Actual': y_test, 'Predicted': y_pred})\n",
    "result4.head()"
   ]
  },
  {
   "cell_type": "code",
   "execution_count": 42,
   "metadata": {
    "colab": {
     "base_uri": "https://localhost:8080/"
    },
    "id": "_WTxXPEN32EV",
    "outputId": "cb2832bf-16e4-4872-8e4d-662e380dbdf1"
   },
   "outputs": [
    {
     "name": "stdout",
     "output_type": "stream",
     "text": [
      "Y =  0.1344 * Likes + -1436.1219\n"
     ]
    }
   ],
   "source": [
    "# calculate the weights and y-intercept of the linear regression model and display the equation\n",
    "m4_weights = np.round(m4_regressor.coef_, 4)\n",
    "m4_intercept = np.round(m4_regressor.intercept_, 4)\n",
    "\n",
    "print(\"Y = \", m4_weights[0], \"* Likes +\", m4_intercept)"
   ]
  },
  {
   "cell_type": "code",
   "execution_count": 43,
   "metadata": {
    "colab": {
     "base_uri": "https://localhost:8080/"
    },
    "id": "V8v7zSzm32M9",
    "outputId": "9d75e6a1-c474-4292-dd10-c4f3b33d4969"
   },
   "outputs": [
    {
     "name": "stdout",
     "output_type": "stream",
     "text": [
      "Model 4 MAE: 5549.65470709143\n",
      "Model 4 MSE: 428864271.799468\n",
      "Model 4 RMSE: 20709.038408372995\n"
     ]
    }
   ],
   "source": [
    "# calculate regressor metrics MSE and RMSE for model 3\n",
    "m4_mae = mean_absolute_error(y_test, y_pred)\n",
    "m4_mse = mean_squared_error(y_test, y_pred)\n",
    "m4_rmse = np.sqrt(mean_squared_error(y_test, y_pred))\n",
    "\n",
    "print(\"Model 4 MAE:\", m4_mae)\n",
    "print(\"Model 4 MSE:\", m4_mse)\n",
    "print(\"Model 4 RMSE:\", m4_rmse)"
   ]
  },
  {
   "cell_type": "code",
   "execution_count": 44,
   "metadata": {
    "colab": {
     "base_uri": "https://localhost:8080/",
     "height": 321
    },
    "id": "cQNduXnd09MF",
    "outputId": "7673115d-9179-4ced-d2f2-5f6d5ee74dfe"
   },
   "outputs": [
    {
     "data": {
      "image/png": "[encoded data removed]",
      "text/plain": [
       "<Figure size 432x288 with 1 Axes>"
      ]
     },
     "metadata": {
      "needs_background": "light",
      "tags": []
     },
     "output_type": "display_data"
    }
   ],
   "source": [
    "# num dislikes vs num comments\n",
    "plt.scatter(US_df[\"Dislikes\"], US_df[\"Num Comments\"])\n",
    "plt.xlabel(\"Number of Dislikes\")\n",
    "plt.ylabel(\"Number of Comments\")\n",
    "plt.title(\"Dislikes vs. Num Comments\")\n",
    "plt.show()"
   ]
  },
  {
   "cell_type": "markdown",
   "metadata": {
    "id": "c7WoMSjNGQNn"
   },
   "source": [
    "Even though there is a weaker correlation between the number of dislikes and the number of views, we wanted to see if there is a strong correlation between the number of dislikes and the number of comments because people usually express their opinions, both good and bad, in the comments. Thus, the correlation could be high."
   ]
  },
  {
   "cell_type": "code",
   "execution_count": 45,
   "metadata": {
    "id": "GnTjBSZM32Tm"
   },
   "outputs": [],
   "source": [
    "# model 5 with the second most correlating variable\n",
    "# num dislikes predicting num comments\n",
    "X = US_df[[\"Dislikes\"]]\n",
    "y = US_df[\"Num Comments\"]"
   ]
  },
  {
   "cell_type": "code",
   "execution_count": 46,
   "metadata": {
    "colab": {
     "base_uri": "https://localhost:8080/",
     "height": 204
    },
    "id": "h8xJ8fvT32Z9",
    "outputId": "93235fb7-f1f7-4638-9bbc-b2aac2325aaf"
   },
   "outputs": [
    {
     "data": {
      "text/html": [
       "<div>\n",
       "<style scoped>\n",
       "    .dataframe tbody tr th:only-of-type {\n",
       "        vertical-align: middle;\n",
       "    }\n",
       "\n",
       "    .dataframe tbody tr th {\n",
       "        vertical-align: top;\n",
       "    }\n",
       "\n",
       "    .dataframe thead th {\n",
       "        text-align: right;\n",
       "    }\n",
       "</style>\n",
       "<table border=\"1\" class=\"dataframe\">\n",
       "  <thead>\n",
       "    <tr style=\"text-align: right;\">\n",
       "      <th></th>\n",
       "      <th>Actual</th>\n",
       "      <th>Predicted</th>\n",
       "    </tr>\n",
       "  </thead>\n",
       "  <tbody>\n",
       "    <tr>\n",
       "      <th>28786</th>\n",
       "      <td>9649</td>\n",
       "      <td>33373.364279</td>\n",
       "    </tr>\n",
       "    <tr>\n",
       "      <th>16020</th>\n",
       "      <td>1366</td>\n",
       "      <td>7651.576034</td>\n",
       "    </tr>\n",
       "    <tr>\n",
       "      <th>29292</th>\n",
       "      <td>15097</td>\n",
       "      <td>8052.430161</td>\n",
       "    </tr>\n",
       "    <tr>\n",
       "      <th>20037</th>\n",
       "      <td>1660</td>\n",
       "      <td>5215.252724</td>\n",
       "    </tr>\n",
       "    <tr>\n",
       "      <th>14540</th>\n",
       "      <td>571</td>\n",
       "      <td>5199.180742</td>\n",
       "    </tr>\n",
       "  </tbody>\n",
       "</table>\n",
       "</div>"
      ],
      "text/plain": [
       "       Actual     Predicted\n",
       "28786    9649  33373.364279\n",
       "16020    1366   7651.576034\n",
       "29292   15097   8052.430161\n",
       "20037    1660   5215.252724\n",
       "14540     571   5199.180742"
      ]
     },
     "execution_count": 46,
     "metadata": {
      "tags": []
     },
     "output_type": "execute_result"
    }
   ],
   "source": [
    "# split the data into training and testing sets \n",
    "X_train, X_test, y_train, y_test = train_test_split(X, y, test_size=0.2)\n",
    "\n",
    "# create and train the linear regression model\n",
    "m5_regressor = LinearRegression().fit(X_train, y_train)\n",
    "\n",
    "# make predictions\n",
    "y_pred = m5_regressor.predict(X_test)\n",
    "\n",
    "# results of model 2 actual vs predicteds \n",
    "result5 = pd.DataFrame({'Actual': y_test, 'Predicted': y_pred})\n",
    "result5.head()"
   ]
  },
  {
   "cell_type": "code",
   "execution_count": 47,
   "metadata": {
    "colab": {
     "base_uri": "https://localhost:8080/"
    },
    "id": "0yz8qZGx32gN",
    "outputId": "6e0cd8e2-1422-4909-8813-b5453e8633a6"
   },
   "outputs": [
    {
     "name": "stdout",
     "output_type": "stream",
     "text": [
      "Y =  0.9454 * Dislikes + 4942.029\n"
     ]
    }
   ],
   "source": [
    "# calculate the weights and y-intercept of the linear regression model and display the equation\n",
    "m5_weights = np.round(m5_regressor.coef_, 4)\n",
    "m5_intercept = np.round(m5_regressor.intercept_, 4)\n",
    "\n",
    "print(\"Y = \", m5_weights[0], \"* Dislikes +\", m5_intercept)"
   ]
  },
  {
   "cell_type": "code",
   "execution_count": 48,
   "metadata": {
    "colab": {
     "base_uri": "https://localhost:8080/"
    },
    "id": "papDHsj35-OJ",
    "outputId": "c52401ef-a920-4f53-f24f-206d97c45b50"
   },
   "outputs": [
    {
     "name": "stdout",
     "output_type": "stream",
     "text": [
      "Model 5 MAE: 7378.041292847693\n",
      "Model 5 MSE: 852281824.7818898\n",
      "Model 5 RMSE: 29193.866218469415\n"
     ]
    }
   ],
   "source": [
    "# calculate regressor metrics MSE and RMSE for model 4\n",
    "m5_mae = mean_absolute_error(y_test, y_pred)\n",
    "m5_mse = mean_squared_error(y_test, y_pred)\n",
    "m5_rmse = np.sqrt(mean_squared_error(y_test, y_pred))\n",
    "\n",
    "print(\"Model 5 MAE:\", m5_mae)\n",
    "print(\"Model 5 MSE:\", m5_mse)\n",
    "print(\"Model 5 RMSE:\", m5_rmse)"
   ]
  },
  {
   "cell_type": "markdown",
   "metadata": {
    "id": "jbMzm39rGgHb"
   },
   "source": [
    "Lastly, we wanted to see if the two strongest correlating variables (likes and dislikes) with the number of comments best predicts the number of comments. "
   ]
  },
  {
   "cell_type": "code",
   "execution_count": 49,
   "metadata": {
    "id": "hDzdlRru-sjP"
   },
   "outputs": [],
   "source": [
    "# model 6 with the top two correlating variable\n",
    "# num likes and num dislikes predicting num comments\n",
    "X = US_df[[\"Likes\", \"Dislikes\"]]\n",
    "y = US_df[\"Num Comments\"]"
   ]
  },
  {
   "cell_type": "code",
   "execution_count": 50,
   "metadata": {
    "colab": {
     "base_uri": "https://localhost:8080/",
     "height": 204
    },
    "id": "7zNwFbjE-syS",
    "outputId": "795cd51b-068a-40a3-d90f-96e0ba0a0566"
   },
   "outputs": [
    {
     "data": {
      "text/html": [
       "<div>\n",
       "<style scoped>\n",
       "    .dataframe tbody tr th:only-of-type {\n",
       "        vertical-align: middle;\n",
       "    }\n",
       "\n",
       "    .dataframe tbody tr th {\n",
       "        vertical-align: top;\n",
       "    }\n",
       "\n",
       "    .dataframe thead th {\n",
       "        text-align: right;\n",
       "    }\n",
       "</style>\n",
       "<table border=\"1\" class=\"dataframe\">\n",
       "  <thead>\n",
       "    <tr style=\"text-align: right;\">\n",
       "      <th></th>\n",
       "      <th>Actual</th>\n",
       "      <th>Predicted</th>\n",
       "    </tr>\n",
       "  </thead>\n",
       "  <tbody>\n",
       "    <tr>\n",
       "      <th>21398</th>\n",
       "      <td>2827</td>\n",
       "      <td>3574.159971</td>\n",
       "    </tr>\n",
       "    <tr>\n",
       "      <th>7585</th>\n",
       "      <td>576</td>\n",
       "      <td>421.306900</td>\n",
       "    </tr>\n",
       "    <tr>\n",
       "      <th>32684</th>\n",
       "      <td>638</td>\n",
       "      <td>695.887106</td>\n",
       "    </tr>\n",
       "    <tr>\n",
       "      <th>23913</th>\n",
       "      <td>1859</td>\n",
       "      <td>1434.215290</td>\n",
       "    </tr>\n",
       "    <tr>\n",
       "      <th>20825</th>\n",
       "      <td>991</td>\n",
       "      <td>186.798154</td>\n",
       "    </tr>\n",
       "  </tbody>\n",
       "</table>\n",
       "</div>"
      ],
      "text/plain": [
       "       Actual    Predicted\n",
       "21398    2827  3574.159971\n",
       "7585      576   421.306900\n",
       "32684     638   695.887106\n",
       "23913    1859  1434.215290\n",
       "20825     991   186.798154"
      ]
     },
     "execution_count": 50,
     "metadata": {
      "tags": []
     },
     "output_type": "execute_result"
    }
   ],
   "source": [
    "# split the data into training and testing sets \n",
    "X_train, X_test, y_train, y_test = train_test_split(X, y, test_size=0.2)\n",
    "\n",
    "# create and train the linear regression model\n",
    "m6_regressor = LinearRegression().fit(X_train, y_train)\n",
    "\n",
    "# make predictions\n",
    "y_pred = m6_regressor.predict(X_test)\n",
    "\n",
    "# results of model 2 actual vs predicteds \n",
    "result6 = pd.DataFrame({'Actual': y_test, 'Predicted': y_pred})\n",
    "result6.head()"
   ]
  },
  {
   "cell_type": "code",
   "execution_count": 51,
   "metadata": {
    "colab": {
     "base_uri": "https://localhost:8080/"
    },
    "id": "kjapH3Zw-s4v",
    "outputId": "33a3c746-c7d0-4160-b31d-c8b4d89eded6"
   },
   "outputs": [
    {
     "name": "stdout",
     "output_type": "stream",
     "text": [
      "Y =  0.1019 * Likes + 0.548 * Dislikes + -1136.1473\n"
     ]
    }
   ],
   "source": [
    "# calculate the weights and y-intercept of the linear regression model and display the equation\n",
    "m6_weights = np.round(m6_regressor.coef_, 4)\n",
    "m6_intercept = np.round(m6_regressor.intercept_, 4)\n",
    "\n",
    "print(\"Y = \", m6_weights[0], \"* Likes +\", m6_weights[1], \"* Dislikes +\", m6_intercept)"
   ]
  },
  {
   "cell_type": "code",
   "execution_count": 52,
   "metadata": {
    "colab": {
     "base_uri": "https://localhost:8080/"
    },
    "id": "q2E_H3-5-s_m",
    "outputId": "94f0bdb1-6097-45f9-bb6d-4f5e6d858056"
   },
   "outputs": [
    {
     "name": "stdout",
     "output_type": "stream",
     "text": [
      "Model 6 MAE: 4522.771479588506\n",
      "Model 6 MSE: 250966239.16934308\n",
      "Model 6 RMSE: 15841.913999556464\n"
     ]
    }
   ],
   "source": [
    "# calculate regressor metrics MSE and RMSE for model 4\n",
    "m6_mae = mean_absolute_error(y_test, y_pred)\n",
    "m6_mse = mean_squared_error(y_test, y_pred)\n",
    "m6_rmse = np.sqrt(mean_squared_error(y_test, y_pred))\n",
    "\n",
    "print(\"Model 6 MAE:\", m6_mae)\n",
    "print(\"Model 6 MSE:\", m6_mse)\n",
    "print(\"Model 6 RMSE:\", m6_rmse)"
   ]
  },
  {
   "cell_type": "markdown",
   "metadata": {
    "id": "Eb8YtXwR_hjb"
   },
   "source": [
    "#### **Model Comparison**"
   ]
  },
  {
   "cell_type": "code",
   "execution_count": 53,
   "metadata": {
    "colab": {
     "base_uri": "https://localhost:8080/",
     "height": 330
    },
    "id": "rJVVvAfR-tth",
    "outputId": "188db0d2-42c0-4a4d-df27-a9859696b7b5"
   },
   "outputs": [
    {
     "data": {
      "image/png": "[encoded data removed]",
      "text/plain": [
       "<Figure size 432x288 with 1 Axes>"
      ]
     },
     "metadata": {
      "needs_background": "light",
      "tags": []
     },
     "output_type": "display_data"
    }
   ],
   "source": [
    "# plot and visually compare the MSE's for each model\n",
    "MSE = np.round([m4_mse, m5_mse, m6_mse], 4)\n",
    "labels = [\"Likes\", \"Dislikes\", \"Both\"]\n",
    "plt.bar(labels, MSE, color=\"mediumpurple\", width = 0.3)\n",
    "plt.xlabel(\"Models\", labelpad=13)\n",
    "plt.ylabel(\"MSE\", labelpad=13)\n",
    "plt.title(\"Model's MSE\")\n",
    "\n",
    "plt.show()"
   ]
  },
  {
   "cell_type": "markdown",
   "metadata": {
    "id": "vA78_FnmG8J1"
   },
   "source": [
    "Since the scale of the MSE metric is disproportionate to the MAE and RMSE metrics, we further plotted the MAE and RMSE metrics to visualize the differences between those two metrics. "
   ]
  },
  {
   "cell_type": "code",
   "execution_count": 54,
   "metadata": {
    "colab": {
     "base_uri": "https://localhost:8080/",
     "height": 547
    },
    "id": "r8HUNFb1-t2S",
    "outputId": "4855bd2f-d31c-4abd-d3a9-bb5181168c90"
   },
   "outputs": [
    {
     "data": {
      "image/png": "[encoded data removed]",
      "text/plain": [
       "<Figure size 864x576 with 1 Axes>"
      ]
     },
     "metadata": {
      "needs_background": "light",
      "tags": []
     },
     "output_type": "display_data"
    }
   ],
   "source": [
    "# plot and visually compare the MAE and RMSE metrics for each model\n",
    "plt.figure(figsize=(12, 8))\n",
    "MAE = np.round([m4_mae, m5_mae, m6_mae], 4)\n",
    "RMSE = np.round([m4_rmse, m5_rmse, m6_rmse], 4)\n",
    "labels = [\"Model 4\", \"Model 5\", \"Model 6\"]\n",
    "ind = np.arange(3)\n",
    "width = 0.3\n",
    "plt.bar(ind, MAE, width, label = \"MAE\", color=\"cadetblue\")\n",
    "plt.bar(ind + width, RMSE, width, label = \"RMSE\", color=\"rosybrown\")\n",
    "\n",
    "\n",
    "plt.xlabel(\"Models\", labelpad=13)\n",
    "plt.ylabel(\"Metrics\", labelpad=13)\n",
    "plt.xticks(ind + width/2, (labels))\n",
    "plt.xticks(ha= \"center\")\n",
    "plt.title(\"Model's Metrics\")\n",
    "plt.legend(loc=\"upper right\")\n",
    "\n",
    "plt.show()"
   ]
  },
  {
   "cell_type": "markdown",
   "metadata": {
    "id": "CRLe4Od-Gtzz"
   },
   "source": [
    "Based on the errors, we can see that model 6 performed the best to predict the number of comments, indicating that combining both attributes creates a better model. Individually, the number of likes is a stronger predictor for the number of comments, as the error for the model using dislikes is slightly higher. "
   ]
  },
  {
   "cell_type": "code",
   "execution_count": 55,
   "metadata": {
    "id": "lgBM4ho-ERIY"
   },
   "outputs": [],
   "source": [
    "# also use category ID to predict which category has the most views "
   ]
  },
  {
   "cell_type": "markdown",
   "metadata": {
    "id": "zj34HswpHaco"
   },
   "source": [
    "## **Combining all the Countries into one DataFrame**"
   ]
  },
  {
   "cell_type": "markdown",
   "metadata": {
    "id": "y4gCePhaIuMh"
   },
   "source": [
    "Even though this notebook primarily focuses on analyzing the USA Youtube trending videos and the correlations between the predictor variables, we want to briefly explore the correlations across all countries."
   ]
  },
  {
   "cell_type": "markdown",
   "metadata": {
    "id": "FUx0qq1qVPkm"
   },
   "source": [
    "### **Data Wrangling**"
   ]
  },
  {
   "cell_type": "code",
   "execution_count": 56,
   "metadata": {
    "colab": {
     "base_uri": "https://localhost:8080/",
     "height": 419
    },
    "id": "rhnyko5qERIb",
    "outputId": "376c73ff-bd3f-40c0-c7ab-82316e715fa9"
   },
   "outputs": [
    {
     "data": {
      "text/html": [
       "<div>\n",
       "<style scoped>\n",
       "    .dataframe tbody tr th:only-of-type {\n",
       "        vertical-align: middle;\n",
       "    }\n",
       "\n",
       "    .dataframe tbody tr th {\n",
       "        vertical-align: top;\n",
       "    }\n",
       "\n",
       "    .dataframe thead th {\n",
       "        text-align: right;\n",
       "    }\n",
       "</style>\n",
       "<table border=\"1\" class=\"dataframe\">\n",
       "  <thead>\n",
       "    <tr style=\"text-align: right;\">\n",
       "      <th></th>\n",
       "      <th>Country</th>\n",
       "      <th>Video ID</th>\n",
       "      <th>Date</th>\n",
       "      <th>Title</th>\n",
       "      <th>Channel</th>\n",
       "      <th>Category ID</th>\n",
       "      <th>Category</th>\n",
       "      <th>Published</th>\n",
       "      <th>Tags</th>\n",
       "      <th>Views</th>\n",
       "      <th>Likes</th>\n",
       "      <th>Dislikes</th>\n",
       "      <th>Num Comments</th>\n",
       "      <th>Comments Disabled</th>\n",
       "      <th>Ratings Disabled</th>\n",
       "      <th>Error</th>\n",
       "    </tr>\n",
       "  </thead>\n",
       "  <tbody>\n",
       "    <tr>\n",
       "      <th>28412</th>\n",
       "      <td>GB</td>\n",
       "      <td>_I_D_8Z4sJE</td>\n",
       "      <td>18.07.04</td>\n",
       "      <td>Nicky Jam x J. Balvin - X (EQUIS) | Video Ofic...</td>\n",
       "      <td>NickyJamTV</td>\n",
       "      <td>10</td>\n",
       "      <td>Music</td>\n",
       "      <td>2018-03-02T05:00:19.000Z</td>\n",
       "      <td>Bad Bunny|\"Amorfoda\"|\"Dura\"|\"Daddy Yankee\"|\"Oz...</td>\n",
       "      <td>424538912</td>\n",
       "      <td>2818771</td>\n",
       "      <td>149275</td>\n",
       "      <td>99380</td>\n",
       "      <td>0</td>\n",
       "      <td>0</td>\n",
       "      <td>0</td>\n",
       "    </tr>\n",
       "    <tr>\n",
       "      <th>28212</th>\n",
       "      <td>GB</td>\n",
       "      <td>_I_D_8Z4sJE</td>\n",
       "      <td>18.06.04</td>\n",
       "      <td>Nicky Jam x J. Balvin - X (EQUIS) | Video Ofic...</td>\n",
       "      <td>NickyJamTV</td>\n",
       "      <td>10</td>\n",
       "      <td>Music</td>\n",
       "      <td>2018-03-02T05:00:19.000Z</td>\n",
       "      <td>Bad Bunny|\"Amorfoda\"|\"Dura\"|\"Daddy Yankee\"|\"Oz...</td>\n",
       "      <td>413586699</td>\n",
       "      <td>2768654</td>\n",
       "      <td>145643</td>\n",
       "      <td>97218</td>\n",
       "      <td>0</td>\n",
       "      <td>0</td>\n",
       "      <td>0</td>\n",
       "    </tr>\n",
       "    <tr>\n",
       "      <th>28008</th>\n",
       "      <td>GB</td>\n",
       "      <td>_I_D_8Z4sJE</td>\n",
       "      <td>18.05.04</td>\n",
       "      <td>Nicky Jam x J. Balvin - X (EQUIS) | Video Ofic...</td>\n",
       "      <td>NickyJamTV</td>\n",
       "      <td>10</td>\n",
       "      <td>Music</td>\n",
       "      <td>2018-03-02T05:00:19.000Z</td>\n",
       "      <td>Bad Bunny|\"Amorfoda\"|\"Dura\"|\"Daddy Yankee\"|\"Oz...</td>\n",
       "      <td>402650804</td>\n",
       "      <td>2719005</td>\n",
       "      <td>142006</td>\n",
       "      <td>95713</td>\n",
       "      <td>0</td>\n",
       "      <td>0</td>\n",
       "      <td>0</td>\n",
       "    </tr>\n",
       "    <tr>\n",
       "      <th>27811</th>\n",
       "      <td>GB</td>\n",
       "      <td>_I_D_8Z4sJE</td>\n",
       "      <td>18.04.04</td>\n",
       "      <td>Nicky Jam x J. Balvin - X (EQUIS) | Video Ofic...</td>\n",
       "      <td>NickyJamTV</td>\n",
       "      <td>10</td>\n",
       "      <td>Music</td>\n",
       "      <td>2018-03-02T05:00:19.000Z</td>\n",
       "      <td>Bad Bunny|\"Amorfoda\"|\"Dura\"|\"Daddy Yankee\"|\"Oz...</td>\n",
       "      <td>392036878</td>\n",
       "      <td>2670723</td>\n",
       "      <td>138334</td>\n",
       "      <td>93834</td>\n",
       "      <td>0</td>\n",
       "      <td>0</td>\n",
       "      <td>0</td>\n",
       "    </tr>\n",
       "    <tr>\n",
       "      <th>27615</th>\n",
       "      <td>GB</td>\n",
       "      <td>_I_D_8Z4sJE</td>\n",
       "      <td>18.03.04</td>\n",
       "      <td>Nicky Jam x J. Balvin - X (EQUIS) | Video Ofic...</td>\n",
       "      <td>NickyJamTV</td>\n",
       "      <td>10</td>\n",
       "      <td>Music</td>\n",
       "      <td>2018-03-02T05:00:19.000Z</td>\n",
       "      <td>Bad Bunny|\"Amorfoda\"|\"Dura\"|\"Daddy Yankee\"|\"Oz...</td>\n",
       "      <td>382401497</td>\n",
       "      <td>2618320</td>\n",
       "      <td>134625</td>\n",
       "      <td>92387</td>\n",
       "      <td>0</td>\n",
       "      <td>0</td>\n",
       "      <td>0</td>\n",
       "    </tr>\n",
       "    <tr>\n",
       "      <th>...</th>\n",
       "      <td>...</td>\n",
       "      <td>...</td>\n",
       "      <td>...</td>\n",
       "      <td>...</td>\n",
       "      <td>...</td>\n",
       "      <td>...</td>\n",
       "      <td>...</td>\n",
       "      <td>...</td>\n",
       "      <td>...</td>\n",
       "      <td>...</td>\n",
       "      <td>...</td>\n",
       "      <td>...</td>\n",
       "      <td>...</td>\n",
       "      <td>...</td>\n",
       "      <td>...</td>\n",
       "      <td>...</td>\n",
       "    </tr>\n",
       "    <tr>\n",
       "      <th>5290</th>\n",
       "      <td>IN</td>\n",
       "      <td>p3Wn9FuI2zo</td>\n",
       "      <td>17.11.12</td>\n",
       "      <td>Dilip Ghosh and Firhad Hakim's political fight...</td>\n",
       "      <td>24 ghanta</td>\n",
       "      <td>24</td>\n",
       "      <td>Entertainment</td>\n",
       "      <td>2017-12-10T14:21:49.000Z</td>\n",
       "      <td>Zee 24 ghanta|\"bangla news\"|\"zee bangla news\"|...</td>\n",
       "      <td>5098</td>\n",
       "      <td>37</td>\n",
       "      <td>5</td>\n",
       "      <td>10</td>\n",
       "      <td>0</td>\n",
       "      <td>0</td>\n",
       "      <td>0</td>\n",
       "    </tr>\n",
       "    <tr>\n",
       "      <th>18320</th>\n",
       "      <td>IN</td>\n",
       "      <td>#NAME?</td>\n",
       "      <td>18.22.02</td>\n",
       "      <td>Madhuban Murli LIVE - 22/2/2018 (Thursday 7.00...</td>\n",
       "      <td>Madhuban Murli Brahma Kumaris</td>\n",
       "      <td>27</td>\n",
       "      <td>Education</td>\n",
       "      <td>2018-02-22T02:44:05.000Z</td>\n",
       "      <td>Daily Murli|\"Brahma Kumaris\"|\"Madhuban\"|\"Omsha...</td>\n",
       "      <td>4641</td>\n",
       "      <td>185</td>\n",
       "      <td>15</td>\n",
       "      <td>5</td>\n",
       "      <td>0</td>\n",
       "      <td>0</td>\n",
       "      <td>0</td>\n",
       "    </tr>\n",
       "    <tr>\n",
       "      <th>20323</th>\n",
       "      <td>IN</td>\n",
       "      <td>18OSLOq-bFA</td>\n",
       "      <td>18.06.03</td>\n",
       "      <td>Madhuban Murli LIVE - 6/3/2018 (Tuesday 7.00am...</td>\n",
       "      <td>Madhuban Murli Brahma Kumaris</td>\n",
       "      <td>27</td>\n",
       "      <td>Education</td>\n",
       "      <td>2018-03-06T02:41:50.000Z</td>\n",
       "      <td>Daily Murli|\"Brahma Kumaris\"|\"Madhuban\"|\"Omsha...</td>\n",
       "      <td>4359</td>\n",
       "      <td>191</td>\n",
       "      <td>18</td>\n",
       "      <td>9</td>\n",
       "      <td>0</td>\n",
       "      <td>0</td>\n",
       "      <td>0</td>\n",
       "    </tr>\n",
       "    <tr>\n",
       "      <th>29317</th>\n",
       "      <td>IN</td>\n",
       "      <td>iW5ZRboFCMU</td>\n",
       "      <td>18.01.05</td>\n",
       "      <td>रट लो//1 मई 2018 Current Affairs  PDF and Quiz...</td>\n",
       "      <td>Golden Era Education</td>\n",
       "      <td>27</td>\n",
       "      <td>Education</td>\n",
       "      <td>2018-05-01T02:15:08.000Z</td>\n",
       "      <td>[none]</td>\n",
       "      <td>4287</td>\n",
       "      <td>312</td>\n",
       "      <td>12</td>\n",
       "      <td>100</td>\n",
       "      <td>0</td>\n",
       "      <td>0</td>\n",
       "      <td>0</td>\n",
       "    </tr>\n",
       "    <tr>\n",
       "      <th>29316</th>\n",
       "      <td>IN</td>\n",
       "      <td>wntggWeDxjI</td>\n",
       "      <td>18.01.05</td>\n",
       "      <td>Baapmanus - बापमाणूस - Episode 118  - May 01, ...</td>\n",
       "      <td>Zee Yuva</td>\n",
       "      <td>24</td>\n",
       "      <td>Entertainment</td>\n",
       "      <td>2018-04-30T23:28:11.000Z</td>\n",
       "      <td>Zee Yuva|\"Baapmanus\"|\"full episode\"|\"Marathi\"|...</td>\n",
       "      <td>4024</td>\n",
       "      <td>15</td>\n",
       "      <td>0</td>\n",
       "      <td>0</td>\n",
       "      <td>0</td>\n",
       "      <td>0</td>\n",
       "      <td>0</td>\n",
       "    </tr>\n",
       "  </tbody>\n",
       "</table>\n",
       "<p>294254 rows × 16 columns</p>\n",
       "</div>"
      ],
      "text/plain": [
       "      Country     Video ID  ... Ratings Disabled Error\n",
       "28412      GB  _I_D_8Z4sJE  ...                0     0\n",
       "28212      GB  _I_D_8Z4sJE  ...                0     0\n",
       "28008      GB  _I_D_8Z4sJE  ...                0     0\n",
       "27811      GB  _I_D_8Z4sJE  ...                0     0\n",
       "27615      GB  _I_D_8Z4sJE  ...                0     0\n",
       "...       ...          ...  ...              ...   ...\n",
       "5290       IN  p3Wn9FuI2zo  ...                0     0\n",
       "18320      IN       #NAME?  ...                0     0\n",
       "20323      IN  18OSLOq-bFA  ...                0     0\n",
       "29317      IN  iW5ZRboFCMU  ...                0     0\n",
       "29316      IN  wntggWeDxjI  ...                0     0\n",
       "\n",
       "[294254 rows x 16 columns]"
      ]
     },
     "execution_count": 56,
     "metadata": {
      "tags": []
     },
     "output_type": "execute_result"
    }
   ],
   "source": [
    "# load in the different countries dataframes\n",
    "GB_df = pd.read_csv(\"/content/drive/MyDrive/youtube_data/GBvideos.csv\")\n",
    "DE_df = pd.read_csv(\"/content/drive/MyDrive/youtube_data/DEvideos.csv\")\n",
    "CA_df = pd.read_csv(\"/content/drive/MyDrive/youtube_data/CAvideos.csv\")\n",
    "FR_df = pd.read_csv(\"/content/drive/MyDrive/youtube_data/FRvideos.csv\")\n",
    "RU_df = pd.read_csv(\"/content/drive/MyDrive/youtube_data/RUvideos.csv\", encoding=\"latin-1\")\n",
    "MX_df = pd.read_csv(\"/content/drive/MyDrive/youtube_data/MXvideos.csv\", encoding=\"latin-1\")\n",
    "KR_df = pd.read_csv(\"/content/drive/MyDrive/youtube_data/KRvideos.csv\", encoding=\"latin-1\")\n",
    "JP_df = pd.read_csv(\"/content/drive/MyDrive/youtube_data/JPvideos.csv\", encoding=\"latin-1\")\n",
    "IN_df = pd.read_csv(\"/content/drive/MyDrive/youtube_data/INvideos.csv\")\n",
    "\n",
    "\n",
    "df_names = [GB_df, DE_df, CA_df, FR_df, MX_df, KR_df, JP_df, IN_df]\n",
    "countries = [\"GB\", \"DE\", \"CA\", \"FR\", \"MX\", \"KR\", \"JP\", \"IN\"]\n",
    "dfs = []\n",
    "\n",
    "for df, country in zip(df_names, countries):\n",
    "    df = df.drop(columns={\"thumbnail_link\", \"description\"})\n",
    "    # binarize True/False cols to True - 1 and False - 0\n",
    "    df[\"comments_disabled\"] = df[\"comments_disabled\"].astype(int)\n",
    "    df[\"ratings_disabled\"] = df[\"ratings_disabled\"].astype(int)\n",
    "    df[\"video_error_or_removed\"] = df[\"video_error_or_removed\"].astype(int)\n",
    "    df = df.assign(Country = country)\n",
    "    df = df.sort_values(by=['views'], ascending=False)\n",
    "    # rename columns \n",
    "    df = df.rename(columns={\"video_id\":\"Video ID\", \"trending_date\":\"Date\", \"title\": \"Title\", \n",
    "                                \"channel_title\": \"Channel\", \"category_id\": \"Category ID\", \n",
    "                                \"publish_time\": \"Published\",\"tags\": \"Tags\", \"views\": \"Views\", \"likes\": \"Likes\",\n",
    "                              \"dislikes\": \"Dislikes\", \"comment_count\": \"Num Comments\",\n",
    "                                \"comments_disabled\": \"Comments Disabled\", \"ratings_disabled\": \"Ratings Disabled\", \n",
    "                                \"video_error_or_removed\": \"Error\"})\n",
    "    # remove Country from the list and add back to beginning of df\n",
    "    cols = list(df.columns.values) \n",
    "    cols.pop(cols.index('Country')) \n",
    "    df = df[[\"Country\"] + cols]\n",
    "\n",
    "    # add the Category column for each type of video (corresponding to Category ID)\n",
    "    df = df.merge(categories_df, how= \"left\", left_on= \"Category ID\", right_index = True)\n",
    "    # remove Country from the list and add it after Category ID\n",
    "    category_data = df[\"Category\"]\n",
    "    df = df.drop(labels=[\"Category\"], axis=1)\n",
    "    df.insert(6, \"Category\", category_data)\n",
    "    # add to array\n",
    "    dfs.append(df)\n",
    "\n",
    "# combine all country dfs into one\n",
    "Countries_df = pd.concat(dfs)\n",
    "Countries_df"
   ]
  },
  {
   "cell_type": "code",
   "execution_count": 57,
   "metadata": {
    "colab": {
     "base_uri": "https://localhost:8080/",
     "height": 419
    },
    "id": "LauKkiI7e3LM",
    "outputId": "4f917742-6699-4ecf-d3e6-abda502aa5eb"
   },
   "outputs": [
    {
     "data": {
      "text/html": [
       "<div>\n",
       "<style scoped>\n",
       "    .dataframe tbody tr th:only-of-type {\n",
       "        vertical-align: middle;\n",
       "    }\n",
       "\n",
       "    .dataframe tbody tr th {\n",
       "        vertical-align: top;\n",
       "    }\n",
       "\n",
       "    .dataframe thead th {\n",
       "        text-align: right;\n",
       "    }\n",
       "</style>\n",
       "<table border=\"1\" class=\"dataframe\">\n",
       "  <thead>\n",
       "    <tr style=\"text-align: right;\">\n",
       "      <th></th>\n",
       "      <th>Country</th>\n",
       "      <th>Video ID</th>\n",
       "      <th>Date</th>\n",
       "      <th>Title</th>\n",
       "      <th>Channel</th>\n",
       "      <th>Category ID</th>\n",
       "      <th>Category</th>\n",
       "      <th>Published</th>\n",
       "      <th>Tags</th>\n",
       "      <th>Views</th>\n",
       "      <th>Likes</th>\n",
       "      <th>Dislikes</th>\n",
       "      <th>Num Comments</th>\n",
       "      <th>Comments Disabled</th>\n",
       "      <th>Ratings Disabled</th>\n",
       "      <th>Error</th>\n",
       "    </tr>\n",
       "  </thead>\n",
       "  <tbody>\n",
       "    <tr>\n",
       "      <th>28412</th>\n",
       "      <td>GB</td>\n",
       "      <td>_I_D_8Z4sJE</td>\n",
       "      <td>18.07.04</td>\n",
       "      <td>Nicky Jam x J. Balvin - X (EQUIS) | Video Ofic...</td>\n",
       "      <td>NickyJamTV</td>\n",
       "      <td>10</td>\n",
       "      <td>Music</td>\n",
       "      <td>2018-03-02T05:00:19.000Z</td>\n",
       "      <td>Bad Bunny|\"Amorfoda\"|\"Dura\"|\"Daddy Yankee\"|\"Oz...</td>\n",
       "      <td>424538912</td>\n",
       "      <td>2818771</td>\n",
       "      <td>149275</td>\n",
       "      <td>99380</td>\n",
       "      <td>0</td>\n",
       "      <td>0</td>\n",
       "      <td>0</td>\n",
       "    </tr>\n",
       "    <tr>\n",
       "      <th>28212</th>\n",
       "      <td>GB</td>\n",
       "      <td>_I_D_8Z4sJE</td>\n",
       "      <td>18.06.04</td>\n",
       "      <td>Nicky Jam x J. Balvin - X (EQUIS) | Video Ofic...</td>\n",
       "      <td>NickyJamTV</td>\n",
       "      <td>10</td>\n",
       "      <td>Music</td>\n",
       "      <td>2018-03-02T05:00:19.000Z</td>\n",
       "      <td>Bad Bunny|\"Amorfoda\"|\"Dura\"|\"Daddy Yankee\"|\"Oz...</td>\n",
       "      <td>413586699</td>\n",
       "      <td>2768654</td>\n",
       "      <td>145643</td>\n",
       "      <td>97218</td>\n",
       "      <td>0</td>\n",
       "      <td>0</td>\n",
       "      <td>0</td>\n",
       "    </tr>\n",
       "    <tr>\n",
       "      <th>28008</th>\n",
       "      <td>GB</td>\n",
       "      <td>_I_D_8Z4sJE</td>\n",
       "      <td>18.05.04</td>\n",
       "      <td>Nicky Jam x J. Balvin - X (EQUIS) | Video Ofic...</td>\n",
       "      <td>NickyJamTV</td>\n",
       "      <td>10</td>\n",
       "      <td>Music</td>\n",
       "      <td>2018-03-02T05:00:19.000Z</td>\n",
       "      <td>Bad Bunny|\"Amorfoda\"|\"Dura\"|\"Daddy Yankee\"|\"Oz...</td>\n",
       "      <td>402650804</td>\n",
       "      <td>2719005</td>\n",
       "      <td>142006</td>\n",
       "      <td>95713</td>\n",
       "      <td>0</td>\n",
       "      <td>0</td>\n",
       "      <td>0</td>\n",
       "    </tr>\n",
       "    <tr>\n",
       "      <th>27811</th>\n",
       "      <td>GB</td>\n",
       "      <td>_I_D_8Z4sJE</td>\n",
       "      <td>18.04.04</td>\n",
       "      <td>Nicky Jam x J. Balvin - X (EQUIS) | Video Ofic...</td>\n",
       "      <td>NickyJamTV</td>\n",
       "      <td>10</td>\n",
       "      <td>Music</td>\n",
       "      <td>2018-03-02T05:00:19.000Z</td>\n",
       "      <td>Bad Bunny|\"Amorfoda\"|\"Dura\"|\"Daddy Yankee\"|\"Oz...</td>\n",
       "      <td>392036878</td>\n",
       "      <td>2670723</td>\n",
       "      <td>138334</td>\n",
       "      <td>93834</td>\n",
       "      <td>0</td>\n",
       "      <td>0</td>\n",
       "      <td>0</td>\n",
       "    </tr>\n",
       "    <tr>\n",
       "      <th>27615</th>\n",
       "      <td>GB</td>\n",
       "      <td>_I_D_8Z4sJE</td>\n",
       "      <td>18.03.04</td>\n",
       "      <td>Nicky Jam x J. Balvin - X (EQUIS) | Video Ofic...</td>\n",
       "      <td>NickyJamTV</td>\n",
       "      <td>10</td>\n",
       "      <td>Music</td>\n",
       "      <td>2018-03-02T05:00:19.000Z</td>\n",
       "      <td>Bad Bunny|\"Amorfoda\"|\"Dura\"|\"Daddy Yankee\"|\"Oz...</td>\n",
       "      <td>382401497</td>\n",
       "      <td>2618320</td>\n",
       "      <td>134625</td>\n",
       "      <td>92387</td>\n",
       "      <td>0</td>\n",
       "      <td>0</td>\n",
       "      <td>0</td>\n",
       "    </tr>\n",
       "    <tr>\n",
       "      <th>...</th>\n",
       "      <td>...</td>\n",
       "      <td>...</td>\n",
       "      <td>...</td>\n",
       "      <td>...</td>\n",
       "      <td>...</td>\n",
       "      <td>...</td>\n",
       "      <td>...</td>\n",
       "      <td>...</td>\n",
       "      <td>...</td>\n",
       "      <td>...</td>\n",
       "      <td>...</td>\n",
       "      <td>...</td>\n",
       "      <td>...</td>\n",
       "      <td>...</td>\n",
       "      <td>...</td>\n",
       "      <td>...</td>\n",
       "    </tr>\n",
       "    <tr>\n",
       "      <th>546</th>\n",
       "      <td>US</td>\n",
       "      <td>-JVITToppE0</td>\n",
       "      <td>17.16.11</td>\n",
       "      <td>Coach Taggart Monday Presser Ahead of Arizona</td>\n",
       "      <td>GoDucksdotcom</td>\n",
       "      <td>17</td>\n",
       "      <td>Sports</td>\n",
       "      <td>2017-11-13T20:41:45.000Z</td>\n",
       "      <td>Oregon|\"Ducks\"|\"college athletics\"|\"college fo...</td>\n",
       "      <td>687</td>\n",
       "      <td>10</td>\n",
       "      <td>2</td>\n",
       "      <td>5</td>\n",
       "      <td>0</td>\n",
       "      <td>0</td>\n",
       "      <td>0</td>\n",
       "    </tr>\n",
       "    <tr>\n",
       "      <th>14531</th>\n",
       "      <td>US</td>\n",
       "      <td>dQMZLXaa1L8</td>\n",
       "      <td>18.27.01</td>\n",
       "      <td>Artwork Forge</td>\n",
       "      <td>Palo Alto Online</td>\n",
       "      <td>17</td>\n",
       "      <td>Sports</td>\n",
       "      <td>2018-01-10T23:53:56.000Z</td>\n",
       "      <td>[none]</td>\n",
       "      <td>658</td>\n",
       "      <td>1</td>\n",
       "      <td>0</td>\n",
       "      <td>0</td>\n",
       "      <td>0</td>\n",
       "      <td>0</td>\n",
       "      <td>0</td>\n",
       "    </tr>\n",
       "    <tr>\n",
       "      <th>14782</th>\n",
       "      <td>US</td>\n",
       "      <td>y6KYFcta4SE</td>\n",
       "      <td>18.28.01</td>\n",
       "      <td>1 dead, others injured after Ky. school shooting</td>\n",
       "      <td>Newsy</td>\n",
       "      <td>25</td>\n",
       "      <td>News &amp; Politics</td>\n",
       "      <td>2018-01-23T15:30:01.000Z</td>\n",
       "      <td>shooting|\"kentucky\"|\"breaking news\"|\"u.s. news...</td>\n",
       "      <td>559</td>\n",
       "      <td>9</td>\n",
       "      <td>0</td>\n",
       "      <td>4</td>\n",
       "      <td>0</td>\n",
       "      <td>0</td>\n",
       "      <td>0</td>\n",
       "    </tr>\n",
       "    <tr>\n",
       "      <th>14563</th>\n",
       "      <td>US</td>\n",
       "      <td>y6KYFcta4SE</td>\n",
       "      <td>18.27.01</td>\n",
       "      <td>1 dead, others injured after Ky. school shooting</td>\n",
       "      <td>Newsy</td>\n",
       "      <td>25</td>\n",
       "      <td>News &amp; Politics</td>\n",
       "      <td>2018-01-23T15:30:01.000Z</td>\n",
       "      <td>shooting|\"kentucky\"|\"breaking news\"|\"u.s. news...</td>\n",
       "      <td>554</td>\n",
       "      <td>9</td>\n",
       "      <td>0</td>\n",
       "      <td>4</td>\n",
       "      <td>0</td>\n",
       "      <td>0</td>\n",
       "      <td>0</td>\n",
       "    </tr>\n",
       "    <tr>\n",
       "      <th>14335</th>\n",
       "      <td>US</td>\n",
       "      <td>y6KYFcta4SE</td>\n",
       "      <td>18.26.01</td>\n",
       "      <td>1 dead, others injured after Ky. school shooting</td>\n",
       "      <td>Newsy</td>\n",
       "      <td>25</td>\n",
       "      <td>News &amp; Politics</td>\n",
       "      <td>2018-01-23T15:30:01.000Z</td>\n",
       "      <td>shooting|\"kentucky\"|\"breaking news\"|\"u.s. news...</td>\n",
       "      <td>549</td>\n",
       "      <td>9</td>\n",
       "      <td>0</td>\n",
       "      <td>5</td>\n",
       "      <td>0</td>\n",
       "      <td>0</td>\n",
       "      <td>0</td>\n",
       "    </tr>\n",
       "  </tbody>\n",
       "</table>\n",
       "<p>335203 rows × 16 columns</p>\n",
       "</div>"
      ],
      "text/plain": [
       "      Country     Video ID  ... Ratings Disabled Error\n",
       "28412      GB  _I_D_8Z4sJE  ...                0     0\n",
       "28212      GB  _I_D_8Z4sJE  ...                0     0\n",
       "28008      GB  _I_D_8Z4sJE  ...                0     0\n",
       "27811      GB  _I_D_8Z4sJE  ...                0     0\n",
       "27615      GB  _I_D_8Z4sJE  ...                0     0\n",
       "...       ...          ...  ...              ...   ...\n",
       "546        US  -JVITToppE0  ...                0     0\n",
       "14531      US  dQMZLXaa1L8  ...                0     0\n",
       "14782      US  y6KYFcta4SE  ...                0     0\n",
       "14563      US  y6KYFcta4SE  ...                0     0\n",
       "14335      US  y6KYFcta4SE  ...                0     0\n",
       "\n",
       "[335203 rows x 16 columns]"
      ]
     },
     "execution_count": 57,
     "metadata": {
      "tags": []
     },
     "output_type": "execute_result"
    }
   ],
   "source": [
    "# lastly, concatenate Countries_df with USA df\n",
    "contrs_df = [Countries_df, US_df]\n",
    "Countries_df = pd.concat(contrs_df)\n",
    "countries.append(\"US\")\n",
    "dfs.append(US_df)\n",
    "Countries_df"
   ]
  },
  {
   "cell_type": "markdown",
   "metadata": {
    "id": "WsWAhFtiVULH"
   },
   "source": [
    "### **EDA**"
   ]
  },
  {
   "cell_type": "code",
   "execution_count": 58,
   "metadata": {
    "colab": {
     "base_uri": "https://localhost:8080/"
    },
    "id": "vRemeShINO5J",
    "outputId": "fc27a406-2521-4c2a-d806-9b7824e76370"
   },
   "outputs": [
    {
     "name": "stdout",
     "output_type": "stream",
     "text": [
      "Missing Values? False\n"
     ]
    }
   ],
   "source": [
    "# Check for null values\n",
    "print(\"Missing Values?\", Countries_df.isna().values.any())"
   ]
  },
  {
   "cell_type": "code",
   "execution_count": 59,
   "metadata": {
    "colab": {
     "base_uri": "https://localhost:8080/"
    },
    "id": "8tKs1khuq-qm",
    "outputId": "a5045ef0-b40a-43e2-c584-283ff8f742f5"
   },
   "outputs": [
    {
     "data": {
      "text/plain": [
       "{1: 'Film & Animation',\n",
       " 2: 'Autos & Vehicles',\n",
       " 10: 'Music',\n",
       " 15: 'Pets & Animals',\n",
       " 17: 'Sports',\n",
       " 18: 'Short Movies',\n",
       " 19: 'Travel & Events',\n",
       " 20: 'Gaming',\n",
       " 21: 'Videoblogging',\n",
       " 22: 'People & Blogs',\n",
       " 23: 'Comedy',\n",
       " 24: 'Entertainment',\n",
       " 25: 'News & Politics',\n",
       " 26: 'Howto & Style',\n",
       " 27: 'Education',\n",
       " 28: 'Science & Technology',\n",
       " 29: 'Nonprofits & Activism',\n",
       " 30: 'Movies',\n",
       " 31: 'Anime/Animation',\n",
       " 32: 'Action/Adventure',\n",
       " 33: 'Classics',\n",
       " 34: 'Comedy',\n",
       " 35: 'Documentary',\n",
       " 36: 'Drama',\n",
       " 37: 'Family',\n",
       " 38: 'Foreign',\n",
       " 39: 'Horror',\n",
       " 40: 'Sci-Fi/Fantasy',\n",
       " 41: 'Thriller',\n",
       " 42: 'Shorts',\n",
       " 43: 'Shows',\n",
       " 44: 'Trailers'}"
      ]
     },
     "execution_count": 59,
     "metadata": {
      "tags": []
     },
     "output_type": "execute_result"
    }
   ],
   "source": [
    "# A reminder of all the catgories\n",
    "final_categories"
   ]
  },
  {
   "cell_type": "code",
   "execution_count": 60,
   "metadata": {
    "colab": {
     "base_uri": "https://localhost:8080/"
    },
    "id": "0gt9gmQTVXB-",
    "outputId": "a682ce78-1d78-4a70-bb09-1eff48690b84"
   },
   "outputs": [
    {
     "name": "stdout",
     "output_type": "stream",
     "text": [
      "Category ID count:\n",
      " 24    103063\n",
      "22     43702\n",
      "10     40619\n",
      "25     31886\n",
      "23     23905\n",
      "17     21716\n",
      "1      17891\n",
      "26     16856\n",
      "20     10455\n",
      "27      7074\n",
      "28      7038\n",
      "15      4259\n",
      "2       3151\n",
      "19      1514\n",
      "29      1254\n",
      "43       780\n",
      "30        35\n",
      "44         5\n",
      "Name: Category ID, dtype: int64\n"
     ]
    }
   ],
   "source": [
    "print(\"Category ID count:\\n\", Countries_df[\"Category ID\"].value_counts())"
   ]
  },
  {
   "cell_type": "markdown",
   "metadata": {
    "id": "XWlu7qjieE87"
   },
   "source": [
    "From the Category ID distribution, we can see that category 24, which is Entertainment, again contains the highest amount of trending videos, meaning that across all the nations, entertainment is still mainly valued and most popular. This is quite understandable as one of the main primary uses and popular types of videos on Youtube are Entertainment based. The second most popular category is category 22, which is People & Blogs. This is new compared to the US statistics where the second most popular category was Music, but also understandable as poeple in all generations across all the nations value content creators and personal opinions. Lastly, the third most popular category is category 10, music, which is a universal popular theme. Music and entertainment ignite and fuel almost all nations, and people rely on music as stress relief and to liven the mood. The least popular video category with the fewest trending videos is category 44, which is Trailers. This is a bit surprising as  sometimes the trailers for new movies or episodes on shows are featured, but also makes sense as full movies are usually never fully available on YouTube, and are present on other apps like Netflix, Disney+, HBOMax, etc. Additionally, compared to the other categories, trailers is a smaller subset of entertainment, which contains more things pertaining to movies and celebrities."
   ]
  },
  {
   "cell_type": "code",
   "execution_count": 61,
   "metadata": {
    "colab": {
     "base_uri": "https://localhost:8080/"
    },
    "id": "8kGTXpPpfHMK",
    "outputId": "333393a3-7c01-418b-e8be-cb2e1ccbeb0d"
   },
   "outputs": [
    {
     "data": {
      "text/plain": [
       "array([{'GB': 'Music'}, {'DE': 'Entertainment'}, {'CA': 'Entertainment'},\n",
       "       {'FR': 'Music'}, {'MX': 'Music'}, {'KR': 'Entertainment'},\n",
       "       {'JP': 'Entertainment'}, {'IN': 'Entertainment'}, {'US': 'Music'}],\n",
       "      dtype=object)"
      ]
     },
     "execution_count": 61,
     "metadata": {
      "tags": []
     },
     "output_type": "execute_result"
    }
   ],
   "source": [
    "# which category of video has the most views in each country \n",
    "top_category_id_in_every_country_by_views = []\n",
    "for country, df in zip(countries, dfs):\n",
    "    curr = df.groupby('Category').sum().sort_values('Views', ascending = False).index.to_numpy()[0]\n",
    "    top_category_id_in_every_country_by_views  = np.append(top_category_id_in_every_country_by_views , {country : curr})\n",
    "top_category_id_in_every_country_by_views"
   ]
  },
  {
   "cell_type": "markdown",
   "metadata": {
    "id": "f_O-ggZb4YGu"
   },
   "source": [
    "The code above displays for each country, which category had the most amount of views. This is important to acknowledge as well because number of views is also a high indicator of a trending video, as it gains popularity. Overall, it appears that Entertainment and Music are the videos with the most views globally, and this makes sense as artists and entertainers post their music and highlights on YouTube for viewers to enjoy."
   ]
  },
  {
   "cell_type": "code",
   "execution_count": 62,
   "metadata": {
    "colab": {
     "base_uri": "https://localhost:8080/"
    },
    "id": "zsK4uVTfjIfD",
    "outputId": "10fa3b03-518b-482f-d7e9-6f828ba90417"
   },
   "outputs": [
    {
     "data": {
      "text/plain": [
       "array([{'GB': 'Music'}, {'DE': 'Entertainment'}, {'CA': 'Entertainment'},\n",
       "       {'FR': 'Entertainment'}, {'MX': 'Entertainment'},\n",
       "       {'KR': 'Entertainment'}, {'JP': 'Entertainment'},\n",
       "       {'IN': 'Entertainment'}, {'US': 'Entertainment'}], dtype=object)"
      ]
     },
     "execution_count": 62,
     "metadata": {
      "tags": []
     },
     "output_type": "execute_result"
    }
   ],
   "source": [
    "# which category of videos appears the most in each country\n",
    "top_category_id_in_every_country_by_count = []\n",
    "for country, df in zip(countries, dfs):\n",
    "    curr = df.groupby('Category').count().sort_values('Views', ascending = False).index.to_numpy()[0]\n",
    "    top_category_id_in_every_country_by_count  = np.append(top_category_id_in_every_country_by_count , {country : curr})\n",
    "top_category_id_in_every_country_by_count"
   ]
  },
  {
   "cell_type": "markdown",
   "metadata": {
    "id": "QvczGqbJnCwg"
   },
   "source": [
    "In addition to comparing the overall top categories worldwide, we thought that it was important to also analyze and acknowledge that different countries will have different top trending category videos. In the code above, we show the top trending category video for each of the indiviudal countries. Overall, it appears that most countries favor entertainment the most. "
   ]
  },
  {
   "cell_type": "code",
   "execution_count": 63,
   "metadata": {
    "colab": {
     "base_uri": "https://localhost:8080/"
    },
    "id": "K40gMLgwVXKH",
    "outputId": "0881ac71-893f-442d-c9df-866d9e5f581f"
   },
   "outputs": [
    {
     "name": "stdout",
     "output_type": "stream",
     "text": [
      "Channel counts:\n",
      " The Late Show with Stephen Colbert          984\n",
      "WWE                                         802\n",
      "Late Night with Seth Meyers                 773\n",
      "VikatanTV                                   763\n",
      "TheEllenShow                                742\n",
      "                                           ... \n",
      "ã«ã¨ã«ãã¡ãã¼                         1\n",
      "SweetMProject                                 1\n",
      "Filmanalyse                                   1\n",
      "Birdbox Studio                                1\n",
      "ãµã³ãã¼ã»ã¸ã£ãã³ Sunday Japon      1\n",
      "Name: Channel, Length: 31762, dtype: int64\n"
     ]
    }
   ],
   "source": [
    "print(\"Channel counts:\\n\", Countries_df[\"Channel\"].value_counts())"
   ]
  },
  {
   "cell_type": "markdown",
   "metadata": {
    "id": "4WyAhYUXgusy"
   },
   "source": [
    "From the Channel distribution, it is evident that the channel with the most amount of trending vidoes is The Late Show with Steven Colbert, one of the most popular entertainment late night shows that is probably also highly viewed in other nations aside from the US. The next popular channel is WWE, as that channel highlights the main wrestling sporting events, a popular sport worldwide. Sports is a crucial form of entertainment in most households, so it makes sense that it is one of the most trending channels. It is important to note that the next few top categories all have a frequency in the 700s, and these categories are Late Night with Seth Meyers, one of the most popular entertainment late night shows, VikatanTV, and TheEllenShow, one of the most popoular daytime entertainment talk shows, as almost everyone knows who Ellen DeGeneres is."
   ]
  },
  {
   "cell_type": "code",
   "execution_count": 64,
   "metadata": {
    "colab": {
     "base_uri": "https://localhost:8080/",
     "height": 297
    },
    "id": "J0lW76_TVXQW",
    "outputId": "aeff0134-82c9-41b2-d829-5d2a7592ca17"
   },
   "outputs": [
    {
     "data": {
      "text/html": [
       "<div>\n",
       "<style scoped>\n",
       "    .dataframe tbody tr th:only-of-type {\n",
       "        vertical-align: middle;\n",
       "    }\n",
       "\n",
       "    .dataframe tbody tr th {\n",
       "        vertical-align: top;\n",
       "    }\n",
       "\n",
       "    .dataframe thead th {\n",
       "        text-align: right;\n",
       "    }\n",
       "</style>\n",
       "<table border=\"1\" class=\"dataframe\">\n",
       "  <thead>\n",
       "    <tr style=\"text-align: right;\">\n",
       "      <th></th>\n",
       "      <th>Category ID</th>\n",
       "      <th>Views</th>\n",
       "      <th>Likes</th>\n",
       "      <th>Dislikes</th>\n",
       "      <th>Num Comments</th>\n",
       "      <th>Comments Disabled</th>\n",
       "      <th>Ratings Disabled</th>\n",
       "      <th>Error</th>\n",
       "    </tr>\n",
       "  </thead>\n",
       "  <tbody>\n",
       "    <tr>\n",
       "      <th>count</th>\n",
       "      <td>335203.000000</td>\n",
       "      <td>3.352030e+05</td>\n",
       "      <td>3.352030e+05</td>\n",
       "      <td>3.352030e+05</td>\n",
       "      <td>3.352030e+05</td>\n",
       "      <td>335203.000000</td>\n",
       "      <td>335203.000000</td>\n",
       "      <td>335203.000000</td>\n",
       "    </tr>\n",
       "    <tr>\n",
       "      <th>mean</th>\n",
       "      <td>20.228700</td>\n",
       "      <td>1.458538e+06</td>\n",
       "      <td>4.097727e+04</td>\n",
       "      <td>2.205216e+03</td>\n",
       "      <td>4.555006e+03</td>\n",
       "      <td>0.022079</td>\n",
       "      <td>0.018798</td>\n",
       "      <td>0.000725</td>\n",
       "    </tr>\n",
       "    <tr>\n",
       "      <th>std</th>\n",
       "      <td>7.034656</td>\n",
       "      <td>7.499797e+06</td>\n",
       "      <td>1.736534e+05</td>\n",
       "      <td>2.362158e+04</td>\n",
       "      <td>2.665772e+04</td>\n",
       "      <td>0.146941</td>\n",
       "      <td>0.135810</td>\n",
       "      <td>0.026915</td>\n",
       "    </tr>\n",
       "    <tr>\n",
       "      <th>min</th>\n",
       "      <td>1.000000</td>\n",
       "      <td>1.570000e+02</td>\n",
       "      <td>0.000000e+00</td>\n",
       "      <td>0.000000e+00</td>\n",
       "      <td>0.000000e+00</td>\n",
       "      <td>0.000000</td>\n",
       "      <td>0.000000</td>\n",
       "      <td>0.000000</td>\n",
       "    </tr>\n",
       "    <tr>\n",
       "      <th>25%</th>\n",
       "      <td>17.000000</td>\n",
       "      <td>5.348000e+04</td>\n",
       "      <td>7.220000e+02</td>\n",
       "      <td>4.200000e+01</td>\n",
       "      <td>1.160000e+02</td>\n",
       "      <td>0.000000</td>\n",
       "      <td>0.000000</td>\n",
       "      <td>0.000000</td>\n",
       "    </tr>\n",
       "    <tr>\n",
       "      <th>50%</th>\n",
       "      <td>24.000000</td>\n",
       "      <td>2.032130e+05</td>\n",
       "      <td>3.737000e+03</td>\n",
       "      <td>1.860000e+02</td>\n",
       "      <td>5.440000e+02</td>\n",
       "      <td>0.000000</td>\n",
       "      <td>0.000000</td>\n",
       "      <td>0.000000</td>\n",
       "    </tr>\n",
       "    <tr>\n",
       "      <th>75%</th>\n",
       "      <td>24.000000</td>\n",
       "      <td>7.358820e+05</td>\n",
       "      <td>1.919700e+04</td>\n",
       "      <td>7.680000e+02</td>\n",
       "      <td>2.164000e+03</td>\n",
       "      <td>0.000000</td>\n",
       "      <td>0.000000</td>\n",
       "      <td>0.000000</td>\n",
       "    </tr>\n",
       "    <tr>\n",
       "      <th>max</th>\n",
       "      <td>44.000000</td>\n",
       "      <td>4.245389e+08</td>\n",
       "      <td>5.613827e+06</td>\n",
       "      <td>1.944971e+06</td>\n",
       "      <td>1.626501e+06</td>\n",
       "      <td>1.000000</td>\n",
       "      <td>1.000000</td>\n",
       "      <td>1.000000</td>\n",
       "    </tr>\n",
       "  </tbody>\n",
       "</table>\n",
       "</div>"
      ],
      "text/plain": [
       "         Category ID         Views  ...  Ratings Disabled          Error\n",
       "count  335203.000000  3.352030e+05  ...     335203.000000  335203.000000\n",
       "mean       20.228700  1.458538e+06  ...          0.018798       0.000725\n",
       "std         7.034656  7.499797e+06  ...          0.135810       0.026915\n",
       "min         1.000000  1.570000e+02  ...          0.000000       0.000000\n",
       "25%        17.000000  5.348000e+04  ...          0.000000       0.000000\n",
       "50%        24.000000  2.032130e+05  ...          0.000000       0.000000\n",
       "75%        24.000000  7.358820e+05  ...          0.000000       0.000000\n",
       "max        44.000000  4.245389e+08  ...          1.000000       1.000000\n",
       "\n",
       "[8 rows x 8 columns]"
      ]
     },
     "execution_count": 64,
     "metadata": {
      "tags": []
     },
     "output_type": "execute_result"
    }
   ],
   "source": [
    "# general statistics about the data distribution\n",
    "Countries_df.describe()"
   ]
  },
  {
   "cell_type": "code",
   "execution_count": 65,
   "metadata": {
    "colab": {
     "base_uri": "https://localhost:8080/",
     "height": 318
    },
    "id": "hbu4qcYOWLta",
    "outputId": "94161f7e-4033-4e56-b9f8-c39010402816"
   },
   "outputs": [
    {
     "data": {
      "image/png": "[encoded data removed]",
      "text/plain": [
       "<Figure size 1080x1080 with 12 Axes>"
      ]
     },
     "metadata": {
      "needs_background": "light",
      "tags": []
     },
     "output_type": "display_data"
    }
   ],
   "source": [
    "cont_features = [\"Views\", \"Likes\", \"Dislikes\",  \"Num Comments\"]\n",
    "# univariate analysis for continuous features to visualize the distributions of the variables  \n",
    "Countries_df[cont_features].plot(kind='box', figsize=(15, 15), subplots=True, layout=(3, 4))\n",
    "plt.show()"
   ]
  },
  {
   "cell_type": "code",
   "execution_count": 66,
   "metadata": {
    "colab": {
     "base_uri": "https://localhost:8080/",
     "height": 297
    },
    "id": "lauuCK1mV8Qj",
    "outputId": "51f90196-40e7-4eed-fcf6-bd0dad51732d"
   },
   "outputs": [
    {
     "data": {
      "text/html": [
       "<div>\n",
       "<style scoped>\n",
       "    .dataframe tbody tr th:only-of-type {\n",
       "        vertical-align: middle;\n",
       "    }\n",
       "\n",
       "    .dataframe tbody tr th {\n",
       "        vertical-align: top;\n",
       "    }\n",
       "\n",
       "    .dataframe thead th {\n",
       "        text-align: right;\n",
       "    }\n",
       "</style>\n",
       "<table border=\"1\" class=\"dataframe\">\n",
       "  <thead>\n",
       "    <tr style=\"text-align: right;\">\n",
       "      <th></th>\n",
       "      <th>Category ID</th>\n",
       "      <th>Views</th>\n",
       "      <th>Likes</th>\n",
       "      <th>Dislikes</th>\n",
       "      <th>Num Comments</th>\n",
       "      <th>Comments Disabled</th>\n",
       "      <th>Ratings Disabled</th>\n",
       "      <th>Error</th>\n",
       "    </tr>\n",
       "  </thead>\n",
       "  <tbody>\n",
       "    <tr>\n",
       "      <th>Category ID</th>\n",
       "      <td>1.000000</td>\n",
       "      <td>-0.143059</td>\n",
       "      <td>-0.159953</td>\n",
       "      <td>-0.035984</td>\n",
       "      <td>-0.074403</td>\n",
       "      <td>0.027318</td>\n",
       "      <td>0.017496</td>\n",
       "      <td>-0.028717</td>\n",
       "    </tr>\n",
       "    <tr>\n",
       "      <th>Views</th>\n",
       "      <td>-0.143059</td>\n",
       "      <td>1.000000</td>\n",
       "      <td>0.779267</td>\n",
       "      <td>0.422929</td>\n",
       "      <td>0.510539</td>\n",
       "      <td>-0.007789</td>\n",
       "      <td>-0.011678</td>\n",
       "      <td>0.007373</td>\n",
       "    </tr>\n",
       "    <tr>\n",
       "      <th>Likes</th>\n",
       "      <td>-0.159953</td>\n",
       "      <td>0.779267</td>\n",
       "      <td>1.000000</td>\n",
       "      <td>0.454953</td>\n",
       "      <td>0.793614</td>\n",
       "      <td>-0.029067</td>\n",
       "      <td>-0.032661</td>\n",
       "      <td>0.006543</td>\n",
       "    </tr>\n",
       "    <tr>\n",
       "      <th>Dislikes</th>\n",
       "      <td>-0.035984</td>\n",
       "      <td>0.422929</td>\n",
       "      <td>0.454953</td>\n",
       "      <td>1.000000</td>\n",
       "      <td>0.709498</td>\n",
       "      <td>-0.007894</td>\n",
       "      <td>-0.012922</td>\n",
       "      <td>0.005388</td>\n",
       "    </tr>\n",
       "    <tr>\n",
       "      <th>Num Comments</th>\n",
       "      <td>-0.074403</td>\n",
       "      <td>0.510539</td>\n",
       "      <td>0.793614</td>\n",
       "      <td>0.709498</td>\n",
       "      <td>1.000000</td>\n",
       "      <td>-0.025675</td>\n",
       "      <td>-0.021702</td>\n",
       "      <td>0.002919</td>\n",
       "    </tr>\n",
       "    <tr>\n",
       "      <th>Comments Disabled</th>\n",
       "      <td>0.027318</td>\n",
       "      <td>-0.007789</td>\n",
       "      <td>-0.029067</td>\n",
       "      <td>-0.007894</td>\n",
       "      <td>-0.025675</td>\n",
       "      <td>1.000000</td>\n",
       "      <td>0.317653</td>\n",
       "      <td>-0.004047</td>\n",
       "    </tr>\n",
       "    <tr>\n",
       "      <th>Ratings Disabled</th>\n",
       "      <td>0.017496</td>\n",
       "      <td>-0.011678</td>\n",
       "      <td>-0.032661</td>\n",
       "      <td>-0.012922</td>\n",
       "      <td>-0.021702</td>\n",
       "      <td>0.317653</td>\n",
       "      <td>1.000000</td>\n",
       "      <td>-0.003728</td>\n",
       "    </tr>\n",
       "    <tr>\n",
       "      <th>Error</th>\n",
       "      <td>-0.028717</td>\n",
       "      <td>0.007373</td>\n",
       "      <td>0.006543</td>\n",
       "      <td>0.005388</td>\n",
       "      <td>0.002919</td>\n",
       "      <td>-0.004047</td>\n",
       "      <td>-0.003728</td>\n",
       "      <td>1.000000</td>\n",
       "    </tr>\n",
       "  </tbody>\n",
       "</table>\n",
       "</div>"
      ],
      "text/plain": [
       "                   Category ID     Views  ...  Ratings Disabled     Error\n",
       "Category ID           1.000000 -0.143059  ...          0.017496 -0.028717\n",
       "Views                -0.143059  1.000000  ...         -0.011678  0.007373\n",
       "Likes                -0.159953  0.779267  ...         -0.032661  0.006543\n",
       "Dislikes             -0.035984  0.422929  ...         -0.012922  0.005388\n",
       "Num Comments         -0.074403  0.510539  ...         -0.021702  0.002919\n",
       "Comments Disabled     0.027318 -0.007789  ...          0.317653 -0.004047\n",
       "Ratings Disabled      0.017496 -0.011678  ...          1.000000 -0.003728\n",
       "Error                -0.028717  0.007373  ...         -0.003728  1.000000\n",
       "\n",
       "[8 rows x 8 columns]"
      ]
     },
     "execution_count": 66,
     "metadata": {
      "tags": []
     },
     "output_type": "execute_result"
    }
   ],
   "source": [
    "# correlations between the main continuous varibles\n",
    "Countries_corrs = Countries_df.corr()\n",
    "Countries_corrs"
   ]
  },
  {
   "cell_type": "code",
   "execution_count": 67,
   "metadata": {
    "colab": {
     "base_uri": "https://localhost:8080/",
     "height": 869
    },
    "id": "jgrUwc_XWC47",
    "outputId": "7f18428a-1de7-49da-850b-cb935e513035"
   },
   "outputs": [
    {
     "data": {
      "image/png": "[encoded data removed]",
      "text/plain": [
       "<Figure size 864x864 with 2 Axes>"
      ]
     },
     "metadata": {
      "needs_background": "light",
      "tags": []
     },
     "output_type": "display_data"
    }
   ],
   "source": [
    "# visualize correlation matrix in a heatmap to easily depict the highly correlated variables\n",
    "plt.figure(figsize=(12, 12))\n",
    "sns.heatmap(Countries_corrs, annot=True, vmin=-1.0, cmap='PuBuGn')\n",
    "plt.show()"
   ]
  },
  {
   "cell_type": "markdown",
   "metadata": {
    "id": "DGNT7QLvhbjN"
   },
   "source": [
    "Based on the heatmap of the correlation matrix, it is evident that there is again a strong correlation of 0.79 between the number of likes and number of comments as both are correlated in terms of if people like a certain video, they are more likely to comment their reaction as well. Similarly, there is also a strong correlation of 0.78 between the number of likes and number of views, which intuitively makes sense as more liked videos will have more views. The next strongest correlation of 0.71 is between the number of dislikes and the number of comments, as people regardless of their like or dislike towards the video will express their opinions in the comments, so if they are not a fan of the video they will still most likely comment. There is a weaker correlation between the number of dislikes and the number of views, understandably as a more disliked and unpleasant video won't have as many views as one that is more pleasing to viewers."
   ]
  }
 ],
 "metadata": {
  "colab": {
   "collapsed_sections": [
    "tNUvaZTcvBeY",
    "mWayO2guHu_7",
    "zCtKXJBfIIYI",
    "3YJtg4xuERIU",
    "STzMHokrySII",
    "FUx0qq1qVPkm",
    "WsWAhFtiVULH"
   ],
   "name": "Ashna & Mackenzie: Buddy Challenge - Youtube dataset.ipynb",
   "provenance": []
  },
  "kernelspec": {
   "display_name": "Python 3",
   "language": "python",
   "name": "python3"
  },
  "language_info": {
   "codemirror_mode": {
    "name": "ipython",
    "version": 3
   },
   "file_extension": ".py",
   "mimetype": "text/x-python",
   "name": "python",
   "nbconvert_exporter": "python",
   "pygments_lexer": "ipython3",
   "version": "3.8.3"
  }
 },
 "nbformat": 4,
 "nbformat_minor": 1
}
